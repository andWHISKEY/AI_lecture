{
 "cells": [
  {
   "cell_type": "markdown",
   "id": "d25c62bb",
   "metadata": {},
   "source": [
    "# Task2: Cifar10 "
   ]
  },
  {
   "cell_type": "markdown",
   "id": "9d2b5d90",
   "metadata": {},
   "source": [
    "## 목차\n",
    "1. Model  \n",
    "    1.1 CNN      \n",
    "    1.2 ResNet18          \n",
    "    1.3 GoogLeNet           \n",
    "    1.4 VGG            \n",
    "    1.5 AlexNet           "
   ]
  },
  {
   "cell_type": "markdown",
   "id": "c01758ca",
   "metadata": {
    "id": "9dc0e36f"
   },
   "source": [
    "# 1.1 CNN"
   ]
  },
  {
   "cell_type": "code",
   "execution_count": 1,
   "id": "a61f41b2",
   "metadata": {
    "id": "c3bee5de"
   },
   "outputs": [],
   "source": [
    "import tensorflow as tf\n",
    "from tensorflow.keras.datasets import cifar10\n",
    "from tensorflow.keras.layers import Conv2D,MaxPool2D,Dense,Flatten,Input,Dropout,BatchNormalization\n",
    "from tensorflow.keras.models import Sequential,Model\n",
    "from tensorflow.keras.optimizers import Adam\n",
    "from tensorflow.keras.utils import to_categorical\n",
    "\n",
    "from sklearn.model_selection import train_test_split\n",
    "\n",
    "import matplotlib.pyplot as plt\n",
    "import numpy as np"
   ]
  },
  {
   "cell_type": "markdown",
   "id": "f6fb25c9",
   "metadata": {
    "id": "443d2afe"
   },
   "source": [
    "### Data load & test-train split"
   ]
  },
  {
   "cell_type": "code",
   "execution_count": 2,
   "id": "1dba7800",
   "metadata": {
    "colab": {
     "base_uri": "https://localhost:8080/"
    },
    "id": "b96f54b5",
    "outputId": "4377e532-0a5f-4dc2-f52c-17c64a8dbf0c"
   },
   "outputs": [
    {
     "name": "stdout",
     "output_type": "stream",
     "text": [
      "Downloading data from https://www.cs.toronto.edu/~kriz/cifar-10-python.tar.gz\n",
      "170500096/170498071 [==============================] - 4s 0us/step\n"
     ]
    }
   ],
   "source": [
    "(x_train_full, y_train_full), (x_test, y_test) = tf.keras.datasets.cifar10.load_data()"
   ]
  },
  {
   "cell_type": "code",
   "execution_count": 3,
   "id": "59b637a9",
   "metadata": {
    "id": "48489d70"
   },
   "outputs": [],
   "source": [
    "x_mean=np.mean(x_train_full,axis=(0,1,2))\n",
    "x_std=np.std(x_train_full,axis=(0,1,2))\n",
    "\n",
    "x_train_full=(x_train_full-x_mean)/x_std\n",
    "x_test=(x_test - x_mean)/x_std"
   ]
  },
  {
   "cell_type": "code",
   "execution_count": 4,
   "id": "e3b604b7",
   "metadata": {
    "id": "b87fc388"
   },
   "outputs": [],
   "source": [
    "x_train,x_val,y_train,y_val=train_test_split(x_train_full,y_train_full,test_size=0.3)"
   ]
  },
  {
   "cell_type": "markdown",
   "id": "efa17085",
   "metadata": {
    "id": "4e242f10"
   },
   "source": [
    "### CNN Architecture"
   ]
  },
  {
   "cell_type": "code",
   "execution_count": 5,
   "id": "d5237ff3",
   "metadata": {
    "id": "807e0f5e"
   },
   "outputs": [],
   "source": [
    "def model_build():\n",
    "    model=Sequential()\n",
    "    \n",
    "    input=Input(shape=(32,32,3))\n",
    "    \n",
    "    output=Conv2D(filters=32,kernel_size=3,padding='same',activation='relu')(input)  #Convolution Layer, activation function은 relu\n",
    "    output=BatchNormalization()(output)                                              #BatchNormalization\n",
    "    output=MaxPool2D(pool_size=(2,2),strides=2,padding='same')(output)               #MaxPooling 사용\n",
    "    \n",
    "    output=Conv2D(filters=64,kernel_size=3,padding='same',activation='relu')(output)\n",
    "    output=BatchNormalization()(output)\n",
    "    output=MaxPool2D(pool_size=(2,2),strides=2,padding='same')(output)\n",
    "    \n",
    "    output=Conv2D(filters=128,kernel_size=3,padding='same',activation='relu')(output)\n",
    "    output=BatchNormalization()(output)\n",
    "    output=MaxPool2D(pool_size=(2,2),strides=2,padding='same')(output)\n",
    "    output=Dropout(0.5)(output)\n",
    "\n",
    "    output=Flatten()(output)\n",
    "    output=Dense(256,activation='relu')(output)\n",
    "    output=Dropout(0.5)(output)\n",
    "    output=Dense(128,activation='relu')(output)\n",
    "    output=Dense(10,activation='softmax')(output)  \n",
    "    \n",
    "    model=Model(inputs=[input],outputs=output)\n",
    "    \n",
    "    model.compile(optimizer=Adam(learning_rate=1e-4),loss='sparse_categorical_crossentropy', metrics=['accuracy'])   #optimizer 'adam' 사용\n",
    "    \n",
    "    return model"
   ]
  },
  {
   "cell_type": "code",
   "execution_count": 6,
   "id": "fdda3720",
   "metadata": {
    "colab": {
     "base_uri": "https://localhost:8080/"
    },
    "id": "5efb9de7",
    "outputId": "fb4e2405-9d68-49f6-a22a-fb8f36219d55"
   },
   "outputs": [
    {
     "name": "stdout",
     "output_type": "stream",
     "text": [
      "Model: \"model\"\n",
      "_________________________________________________________________\n",
      "Layer (type)                 Output Shape              Param #   \n",
      "=================================================================\n",
      "input_1 (InputLayer)         [(None, 32, 32, 3)]       0         \n",
      "_________________________________________________________________\n",
      "conv2d (Conv2D)              (None, 32, 32, 32)        896       \n",
      "_________________________________________________________________\n",
      "batch_normalization (BatchNo (None, 32, 32, 32)        128       \n",
      "_________________________________________________________________\n",
      "max_pooling2d (MaxPooling2D) (None, 16, 16, 32)        0         \n",
      "_________________________________________________________________\n",
      "conv2d_1 (Conv2D)            (None, 16, 16, 64)        18496     \n",
      "_________________________________________________________________\n",
      "batch_normalization_1 (Batch (None, 16, 16, 64)        256       \n",
      "_________________________________________________________________\n",
      "max_pooling2d_1 (MaxPooling2 (None, 8, 8, 64)          0         \n",
      "_________________________________________________________________\n",
      "conv2d_2 (Conv2D)            (None, 8, 8, 128)         73856     \n",
      "_________________________________________________________________\n",
      "batch_normalization_2 (Batch (None, 8, 8, 128)         512       \n",
      "_________________________________________________________________\n",
      "max_pooling2d_2 (MaxPooling2 (None, 4, 4, 128)         0         \n",
      "_________________________________________________________________\n",
      "dropout (Dropout)            (None, 4, 4, 128)         0         \n",
      "_________________________________________________________________\n",
      "flatten (Flatten)            (None, 2048)              0         \n",
      "_________________________________________________________________\n",
      "dense (Dense)                (None, 256)               524544    \n",
      "_________________________________________________________________\n",
      "dropout_1 (Dropout)          (None, 256)               0         \n",
      "_________________________________________________________________\n",
      "dense_1 (Dense)              (None, 128)               32896     \n",
      "_________________________________________________________________\n",
      "dense_2 (Dense)              (None, 10)                1290      \n",
      "=================================================================\n",
      "Total params: 652,874\n",
      "Trainable params: 652,426\n",
      "Non-trainable params: 448\n",
      "_________________________________________________________________\n"
     ]
    }
   ],
   "source": [
    "model=model_build()\n",
    "model.summary()"
   ]
  },
  {
   "cell_type": "markdown",
   "id": "b1614cc0",
   "metadata": {
    "id": "0fa4f826"
   },
   "source": [
    "### Training"
   ]
  },
  {
   "cell_type": "code",
   "execution_count": 7,
   "id": "4097f35e",
   "metadata": {
    "colab": {
     "base_uri": "https://localhost:8080/"
    },
    "id": "19226cc8",
    "outputId": "8abf03f5-1163-4626-dfa0-e290a1dd7735"
   },
   "outputs": [
    {
     "name": "stdout",
     "output_type": "stream",
     "text": [
      "Epoch 1/30\n",
      "137/137 [==============================] - 34s 20ms/step - loss: 2.6338 - accuracy: 0.1976 - val_loss: 2.1418 - val_accuracy: 0.2151\n",
      "Epoch 2/30\n",
      "137/137 [==============================] - 2s 16ms/step - loss: 1.9949 - accuracy: 0.2897 - val_loss: 1.8355 - val_accuracy: 0.3337\n",
      "Epoch 3/30\n",
      "137/137 [==============================] - 2s 16ms/step - loss: 1.8270 - accuracy: 0.3362 - val_loss: 1.6071 - val_accuracy: 0.4258\n",
      "Epoch 4/30\n",
      "137/137 [==============================] - 2s 16ms/step - loss: 1.7107 - accuracy: 0.3753 - val_loss: 1.5025 - val_accuracy: 0.4645\n",
      "Epoch 5/30\n",
      "137/137 [==============================] - 2s 16ms/step - loss: 1.6399 - accuracy: 0.4000 - val_loss: 1.4579 - val_accuracy: 0.4876\n",
      "Epoch 6/30\n",
      "137/137 [==============================] - 2s 16ms/step - loss: 1.5658 - accuracy: 0.4263 - val_loss: 1.4010 - val_accuracy: 0.5094\n",
      "Epoch 7/30\n",
      "137/137 [==============================] - 2s 16ms/step - loss: 1.5159 - accuracy: 0.4475 - val_loss: 1.3616 - val_accuracy: 0.5197\n",
      "Epoch 8/30\n",
      "137/137 [==============================] - 2s 16ms/step - loss: 1.4706 - accuracy: 0.4646 - val_loss: 1.3198 - val_accuracy: 0.5381\n",
      "Epoch 9/30\n",
      "137/137 [==============================] - 2s 16ms/step - loss: 1.4254 - accuracy: 0.4821 - val_loss: 1.2715 - val_accuracy: 0.5533\n",
      "Epoch 10/30\n",
      "137/137 [==============================] - 2s 16ms/step - loss: 1.3826 - accuracy: 0.4977 - val_loss: 1.2484 - val_accuracy: 0.5649\n",
      "Epoch 11/30\n",
      "137/137 [==============================] - 2s 16ms/step - loss: 1.3450 - accuracy: 0.5128 - val_loss: 1.2114 - val_accuracy: 0.5793\n",
      "Epoch 12/30\n",
      "137/137 [==============================] - 2s 16ms/step - loss: 1.3088 - accuracy: 0.5243 - val_loss: 1.1879 - val_accuracy: 0.5898\n",
      "Epoch 13/30\n",
      "137/137 [==============================] - 2s 16ms/step - loss: 1.2771 - accuracy: 0.5371 - val_loss: 1.1572 - val_accuracy: 0.5978\n",
      "Epoch 14/30\n",
      "137/137 [==============================] - 2s 16ms/step - loss: 1.2514 - accuracy: 0.5467 - val_loss: 1.1236 - val_accuracy: 0.6099\n",
      "Epoch 15/30\n",
      "137/137 [==============================] - 2s 16ms/step - loss: 1.2199 - accuracy: 0.5619 - val_loss: 1.1063 - val_accuracy: 0.6163\n",
      "Epoch 16/30\n",
      "137/137 [==============================] - 2s 16ms/step - loss: 1.1971 - accuracy: 0.5670 - val_loss: 1.0848 - val_accuracy: 0.6229\n",
      "Epoch 17/30\n",
      "137/137 [==============================] - 2s 16ms/step - loss: 1.1749 - accuracy: 0.5769 - val_loss: 1.0723 - val_accuracy: 0.6273\n",
      "Epoch 18/30\n",
      "137/137 [==============================] - 2s 16ms/step - loss: 1.1497 - accuracy: 0.5879 - val_loss: 1.0488 - val_accuracy: 0.6360\n",
      "Epoch 19/30\n",
      "137/137 [==============================] - 2s 17ms/step - loss: 1.1332 - accuracy: 0.5924 - val_loss: 1.0308 - val_accuracy: 0.6431\n",
      "Epoch 20/30\n",
      "137/137 [==============================] - 2s 16ms/step - loss: 1.1149 - accuracy: 0.5983 - val_loss: 1.0121 - val_accuracy: 0.6451\n",
      "Epoch 21/30\n",
      "137/137 [==============================] - 2s 16ms/step - loss: 1.0919 - accuracy: 0.6109 - val_loss: 0.9892 - val_accuracy: 0.6534\n",
      "Epoch 22/30\n",
      "137/137 [==============================] - 2s 16ms/step - loss: 1.0747 - accuracy: 0.6156 - val_loss: 0.9821 - val_accuracy: 0.6547\n",
      "Epoch 23/30\n",
      "137/137 [==============================] - 2s 16ms/step - loss: 1.0604 - accuracy: 0.6211 - val_loss: 0.9683 - val_accuracy: 0.6624\n",
      "Epoch 24/30\n",
      "137/137 [==============================] - 2s 16ms/step - loss: 1.0364 - accuracy: 0.6306 - val_loss: 0.9516 - val_accuracy: 0.6691\n",
      "Epoch 25/30\n",
      "137/137 [==============================] - 2s 16ms/step - loss: 1.0292 - accuracy: 0.6332 - val_loss: 0.9423 - val_accuracy: 0.6681\n",
      "Epoch 26/30\n",
      "137/137 [==============================] - 2s 16ms/step - loss: 1.0055 - accuracy: 0.6410 - val_loss: 0.9259 - val_accuracy: 0.6752\n",
      "Epoch 27/30\n",
      "137/137 [==============================] - 2s 16ms/step - loss: 0.9956 - accuracy: 0.6433 - val_loss: 0.9166 - val_accuracy: 0.6819\n",
      "Epoch 28/30\n",
      "137/137 [==============================] - 2s 16ms/step - loss: 0.9747 - accuracy: 0.6502 - val_loss: 0.9084 - val_accuracy: 0.6819\n",
      "Epoch 29/30\n",
      "137/137 [==============================] - 2s 16ms/step - loss: 0.9625 - accuracy: 0.6569 - val_loss: 0.9062 - val_accuracy: 0.6821\n",
      "Epoch 30/30\n",
      "137/137 [==============================] - 2s 16ms/step - loss: 0.9437 - accuracy: 0.6627 - val_loss: 0.8951 - val_accuracy: 0.6872\n"
     ]
    }
   ],
   "source": [
    "history= model.fit(x_train, y_train, batch_size=256, epochs=30, validation_data=(x_val, y_val))"
   ]
  },
  {
   "cell_type": "code",
   "execution_count": 8,
   "id": "1cfbf351",
   "metadata": {
    "colab": {
     "base_uri": "https://localhost:8080/",
     "height": 279
    },
    "id": "33d004ba",
    "outputId": "60ca7019-fbc8-4eda-8061-9b83d3ed07a4"
   },
   "outputs": [
    {
     "data": {
      "image/png": "[encoded data removed]",
      "text/plain": [
       "<Figure size 864x288 with 2 Axes>"
      ]
     },
     "metadata": {
      "needs_background": "light",
      "tags": []
     },
     "output_type": "display_data"
    }
   ],
   "source": [
    "plt.figure(figsize=(12,4))\n",
    "\n",
    "plt.subplot(1,2,1)\n",
    "plt.plot(history.history['loss'], 'b--', label='loss')\n",
    "plt.plot(history.history['val_loss'], 'r:', label='val_loss')\n",
    "plt.xlabel('epoch')\n",
    "plt.grid()\n",
    "plt.legend()\n",
    "\n",
    "plt.subplot(1,2,2)\n",
    "plt.plot(history.history['accuracy'], 'b--', label='accuracy')\n",
    "plt.plot(history.history['val_accuracy'], 'r:', label='val accuracy')\n",
    "plt.xlabel('epoch')\n",
    "plt.grid()\n",
    "plt.legend()\n",
    "\n",
    "plt.show()"
   ]
  },
  {
   "cell_type": "code",
   "execution_count": 9,
   "id": "d88a9cc7",
   "metadata": {
    "id": "425be187"
   },
   "outputs": [],
   "source": [
    "test_prediction = model.predict(x_test)"
   ]
  },
  {
   "cell_type": "code",
   "execution_count": 10,
   "id": "8dd48c09",
   "metadata": {
    "colab": {
     "base_uri": "https://localhost:8080/"
    },
    "id": "so9QZVazStQx",
    "outputId": "30d7c7a1-9300-4c48-a1c6-98f42cae9962"
   },
   "outputs": [
    {
     "data": {
      "text/plain": [
       "array([[1.48132332e-02, 9.15120170e-03, 3.28102075e-02, ...,\n",
       "        2.15520132e-02, 3.69837210e-02, 1.33853005e-02],\n",
       "       [1.93471741e-02, 6.64481640e-01, 9.10916356e-07, ...,\n",
       "        3.43024766e-07, 2.98223019e-01, 1.79455634e-02],\n",
       "       [1.84516877e-01, 3.61586392e-01, 5.16044628e-03, ...,\n",
       "        2.93285190e-03, 3.73572052e-01, 6.79719597e-02],\n",
       "       ...,\n",
       "       [4.74467687e-03, 2.13693071e-04, 1.47005558e-01, ...,\n",
       "        7.16140419e-02, 3.54968797e-04, 6.84203056e-04],\n",
       "       [1.08611695e-01, 3.18524778e-01, 9.80441496e-02, ...,\n",
       "        1.23720311e-01, 2.45672762e-02, 4.35777381e-02],\n",
       "       [1.51601726e-05, 8.93349625e-06, 3.11827956e-04, ...,\n",
       "        9.88282859e-01, 1.72827504e-06, 9.16584941e-06]], dtype=float32)"
      ]
     },
     "execution_count": 10,
     "metadata": {
      "tags": []
     },
     "output_type": "execute_result"
    }
   ],
   "source": [
    "test_prediction"
   ]
  },
  {
   "cell_type": "markdown",
   "id": "f50845de",
   "metadata": {},
   "source": [
    "."
   ]
  },
  {
   "cell_type": "markdown",
   "id": "b3e53f7a",
   "metadata": {
    "id": "x2SSsQMSknm2"
   },
   "source": [
    "# 1.2 ResNet18"
   ]
  },
  {
   "cell_type": "markdown",
   "id": "a9f42689",
   "metadata": {
    "id": "oD-kWeTPcrAx"
   },
   "source": [
    "ResNet은 convolution filter를 두개씩 묶어 Residual Function형태로 학습하게 만들고, \n",
    "점선으로 표시된 부분은 입력단과 출력단의 Dimension이 맞지 않아 맞춰주는 테크닉이 가미된 shortcut connection이다.그래서 34짜리 3-4-3-4-..요런식으로 묶어줌.\n",
    "\n",
    "입력단과 출력단이 같으면 그냥 identity mapping을 쓸 수 있다. \n",
    "그렇지 않으면 side에 padding을 붙이거나 projection연산을 이용한 shortcut connection을 이용해 구현하는 방법이 있다. \n",
    "실제 구현상 매 convolution마다 batchnormalization을 이용한다. \n",
    "learning_rate도 점차 줄여나가게 하는 테크닉을 쓰고, weight decay=0.0001값과 momentum=0.9로 파라미터 조정해서 학습시킨다.\n",
    "\n",
    "ResNet은 깊어질 수록(깊은 layer)가 얕은 Layer보다 잘 동작하고 training error또한 줄어들고, 일반화 성능 또한 다른모델에 비해 높다.\n",
    "\n",
    "ResNet 학습 시 3가지 경우의 수가 있다.\n",
    "- zero padding 을 이용해 dimension 증가하고 identity mapping 적용   \n",
    "- dimension 증가할때만 projection연산    \n",
    "- 모든 shortcut에 projection을 수행   \n",
    "\n",
    "다만, projection shortcut이 엄청난 성능변화를 주진 않아 필수는 아니다. "
   ]
  },
  {
   "cell_type": "code",
   "execution_count": null,
   "id": "61775828",
   "metadata": {
    "id": "zpUcgk5xkgGZ"
   },
   "outputs": [],
   "source": [
    "import torch\n",
    "import torch.nn as nn\n",
    "import torch.nn.functional as F\n",
    "import torch.backends.cudnn as cudnn\n",
    "import torch.optim as optim\n",
    "import os"
   ]
  },
  {
   "cell_type": "markdown",
   "id": "7f6daea8",
   "metadata": {
    "id": "6V1B_AHmpjwc"
   },
   "source": [
    "### BasicBlock\n",
    "BasicBlock은 2개의 convolution layer로 구성되며, 하나의 [3x3,64] layer를 거친뒤 BatchNormalization -> 'relu' 후\n",
    "그다음 레이어로 돌아가고, 그 다음레이어도 앞과 똑같은 과정을 거친다. 대신 입력으로 들어오는 input이 identity mapping이용해 2번째 convolution을 거친 결과에 더해질 수 있도록 만들고, 그 위에 'relu'를 씌운다."
   ]
  },
  {
   "cell_type": "code",
   "execution_count": null,
   "id": "cdb52140",
   "metadata": {
    "id": "HGhTble6pjwf"
   },
   "outputs": [],
   "source": [
    "# ResNet18을 위해 BasicBlock 클래스 정의\n",
    "class BasicBlock(nn.Module):\n",
    "    def __init__(self, in_planes, planes, stride=1):\n",
    "        super(BasicBlock, self).__init__()\n",
    "\n",
    "        # 3x3 필터를 사용 (Dimension줄일 땐, stride 값 조절)\n",
    "        self.conv1 = nn.Conv2d(in_planes, planes, kernel_size=3, stride=stride, padding=1, bias=False)   #하나의 convolution layer 거치고\n",
    "        self.bn1 = nn.BatchNorm2d(planes) # 배치 정규화(batch normalization)                             #BatchNormalization 한다\n",
    "\n",
    "        # 3x3 필터를 사용 (패딩을 1만큼 주기 때문에 너비와 높이가 동일)\n",
    "        self.conv2 = nn.Conv2d(planes, planes, kernel_size=3, stride=1, padding=1, bias=False)          #2번째 convolution 거치고\n",
    "        self.bn2 = nn.BatchNorm2d(planes)                                                               #BatchNormalization 한다\n",
    "\n",
    "        self.shortcut = nn.Sequential() # identity인 경우                                               #shortcut connection을 위해 mapping을 수행하도록 한다.\n",
    "        if stride != 1: # stride가 1이 아니라면, Identity mapping이 아닌 경우\n",
    "            self.shortcut = nn.Sequential(\n",
    "                nn.Conv2d(in_planes, planes, kernel_size=1, stride=stride, bias=False),                 # stride가 1이 아니면 Dimension이 다르단 의미니 ,위에서 말한 테크닉을 쓴다\n",
    "                nn.BatchNorm2d(planes)                                                                  # stride를 거쳐 입력값이 connection되게 만든다. \n",
    "            )\n",
    "\n",
    "    def forward(self, x):                                                                             \n",
    "        out = F.relu(self.bn1(self.conv1(x)))                                                         #첫번째 convolution,batchnormalization,relu거치고\n",
    "        out = self.bn2(self.conv2(out))                                                               #두번째 convolution,batchnormalization거치고\n",
    "        out += self.shortcut(x) # (핵심) skip connection                                              # 그 다음 x를 mapping해줄 수 있게 하고, 그 결과에\n",
    "        out = F.relu(out)                                                                             # relu를 씌운다. 여기까지 forward path구성\n",
    "        return out"
   ]
  },
  {
   "cell_type": "markdown",
   "id": "afe882e3",
   "metadata": {
    "id": "dM5_0o6Ypjwl"
   },
   "source": [
    "### ResNet Architecture"
   ]
  },
  {
   "cell_type": "code",
   "execution_count": null,
   "id": "634bd39f",
   "metadata": {
    "id": "vtwJzOiWpjwq"
   },
   "outputs": [],
   "source": [
    "# ResNet 정의\n",
    "# 위의 BasicBlock을 여러번 연결하는 방식으로 구현됨.\n",
    "class ResNet(nn.Module):                                                             \n",
    "    def __init__(self, block, num_blocks, num_classes=10):    #block의 개수 입력받을 수 있음 ,CiFar10은 class개수 10개라\n",
    "        super(ResNet, self).__init__()\n",
    "        self.in_planes = 64\n",
    "\n",
    "        # 64개의 3x3 필터(filter)를 사용  \n",
    "        self.conv1 = nn.Conv2d(3, 64, kernel_size=3, stride=1, padding=1, bias=False)\n",
    "        self.bn1 = nn.BatchNorm2d(64)\n",
    "        self.layer1 = self._make_layer(block, 64, num_blocks[0], stride=1)\n",
    "        self.layer2 = self._make_layer(block, 128, num_blocks[1], stride=2)\n",
    "        self.layer3 = self._make_layer(block, 256, num_blocks[2], stride=2)\n",
    "        self.layer4 = self._make_layer(block, 512, num_blocks[3], stride=2)\n",
    "        self.linear = nn.Linear(512, num_classes)                            #Fullyconnected Layer\n",
    "\n",
    "    def _make_layer(self, block, planes, num_blocks, stride):               # BasicBlock이 연속될 수 있게끔 만들어줌. 즉, 이어붙임.\n",
    "        strides = [stride] + [1] * (num_blocks - 1)                         # 첫번째 convolution 연산에 의해서만 너비와 높이(Dimension)이 줄어들 수 있게 만들고 \n",
    "        layers = []                                                         # stride=2로 설정해서 줄어들게 만듬.\n",
    "        for stride in strides:                                              #그 다음 이어붙히는 것은 다 같은 Dimension만 되게 한다.\n",
    "            layers.append(block(self.in_planes, planes, stride))\n",
    "            self.in_planes = planes # 다음 레이어를 위해 채널 수 변경\n",
    "        return nn.Sequential(*layers)\n",
    "\n",
    "    def forward(self, x):\n",
    "        out = F.relu(self.bn1(self.conv1(x)))\n",
    "        out = self.layer1(out)\n",
    "        out = self.layer2(out)\n",
    "        out = self.layer3(out)\n",
    "        out = self.layer4(out)\n",
    "        out = F.avg_pool2d(out, 4)                                         #Maxpooling이 아닌 avgpooling을 사용한다.\n",
    "        out = out.view(out.size(0), -1)\n",
    "        out = self.linear(out)\n",
    "        return out\n",
    "\n",
    "\n",
    "# ResNet18 함수 정의\n",
    "def ResNet18():\n",
    "    return ResNet(BasicBlock, [2, 2, 2, 2])  #각각의 Basicblock이 2번씩 중첩되어 사용할 수 있게 명시"
   ]
  },
  {
   "cell_type": "markdown",
   "id": "6b0faa9d",
   "metadata": {
    "id": "nCNacrgtktlr"
   },
   "source": [
    "### 데이터(Dataset) 다운로드"
   ]
  },
  {
   "cell_type": "code",
   "execution_count": null,
   "id": "2e769179",
   "metadata": {
    "colab": {
     "base_uri": "https://localhost:8080/",
     "height": 174,
     "referenced_widgets": [
      "3898c39f8bf944cf8766abf7da07440d",
      "65a3dc71a31c43be858c0c5b6171dea5",
      "3a5055d2f22540baa44b64630169256d",
      "784e4eafcf0f4997b5a567b4777cd303",
      "b3f2b15031f446cbbbd9e74b52b82944",
      "41435f183335406bbacf6725e17cf452",
      "67409d75d4204923849b2945251c57cb",
      "d93e6eb59af74d0f84e1e61e042bf83f"
     ]
    },
    "id": "EmmQZ8p5kq_C",
    "outputId": "d02967e1-8421-4d75-a156-3ccb7c05a985"
   },
   "outputs": [
    {
     "name": "stdout",
     "output_type": "stream",
     "text": [
      "Downloading https://www.cs.toronto.edu/~kriz/cifar-10-python.tar.gz to ./data/cifar-10-python.tar.gz\n"
     ]
    },
    {
     "data": {
      "application/vnd.jupyter.widget-view+json": {
       "model_id": "3898c39f8bf944cf8766abf7da07440d",
       "version_major": 2,
       "version_minor": 0
      },
      "text/plain": [
       "HBox(children=(FloatProgress(value=0.0, max=170498071.0), HTML(value='')))"
      ]
     },
     "metadata": {
      "tags": []
     },
     "output_type": "display_data"
    },
    {
     "name": "stdout",
     "output_type": "stream",
     "text": [
      "\n",
      "Extracting ./data/cifar-10-python.tar.gz to ./data\n",
      "Files already downloaded and verified\n"
     ]
    },
    {
     "name": "stderr",
     "output_type": "stream",
     "text": [
      "/usr/local/lib/python3.7/dist-packages/torch/utils/data/dataloader.py:477: UserWarning: This DataLoader will create 4 worker processes in total. Our suggested max number of worker in current system is 2, which is smaller than what this DataLoader is going to create. Please be aware that excessive worker creation might get DataLoader running slow or even freeze, lower the worker number to avoid potential slowness/freeze if necessary.\n",
      "  cpuset_checked))\n"
     ]
    }
   ],
   "source": [
    "import torchvision\n",
    "import torchvision.transforms as transforms\n",
    "\n",
    "transform_train = transforms.Compose([\n",
    "    transforms.RandomCrop(32, padding=4),     # Horizontal Flop을 통해 data augmentation하는 방법이 널리쓰인다.\n",
    "    transforms.RandomHorizontalFlip(),\n",
    "    transforms.ToTensor(),\n",
    "])\n",
    "\n",
    "transform_test = transforms.Compose([\n",
    "    transforms.ToTensor(),\n",
    "])\n",
    "\n",
    "train_dataset = torchvision.datasets.CIFAR10(root='./data', train=True, download=True, transform=transform_train)\n",
    "test_dataset = torchvision.datasets.CIFAR10(root='./data', train=False, download=True, transform=transform_test)\n",
    "\n",
    "train_loader = torch.utils.data.DataLoader(train_dataset, batch_size=128, shuffle=True, num_workers=4)\n",
    "test_loader = torch.utils.data.DataLoader(test_dataset, batch_size=100, shuffle=False, num_workers=4)"
   ]
  },
  {
   "cell_type": "markdown",
   "id": "5513e4a4",
   "metadata": {
    "id": "Dl1-47E7pHD_"
   },
   "source": [
    "### 환경 설정"
   ]
  },
  {
   "cell_type": "code",
   "execution_count": null,
   "id": "ae442414",
   "metadata": {
    "id": "bhm_eVykk-Z8"
   },
   "outputs": [],
   "source": [
    "device = 'cuda'\n",
    "\n",
    "net = ResNet18()\n",
    "net = net.to(device)\n",
    "net = torch.nn.DataParallel(net)\n",
    "cudnn.benchmark = True"
   ]
  },
  {
   "cell_type": "markdown",
   "id": "f8e3b8d7",
   "metadata": {
    "id": "MG_DNFddpjw6"
   },
   "source": [
    "### 학습(Training) 함수 정의"
   ]
  },
  {
   "cell_type": "code",
   "execution_count": null,
   "id": "8459472a",
   "metadata": {
    "id": "jDYVdGVApjw7"
   },
   "outputs": [],
   "source": [
    "file_name = 'resnet18_cifar10.pt' #학습이 진행됨에 따라 이런 이름으로 모델파일 저장.\n",
    "learning_rate = 0.1       #learning_rate 설정\n",
    "criterion = nn.CrossEntropyLoss()\n",
    "optimizer = optim.SGD(net.parameters(), lr=learning_rate, momentum=0.9, weight_decay=0.0002)"
   ]
  },
  {
   "cell_type": "code",
   "execution_count": null,
   "id": "b7f4b922",
   "metadata": {
    "id": "E8h-NlEMpjw8"
   },
   "outputs": [],
   "source": [
    "def train(epoch):\n",
    "    print('\\n[ Train epoch: %d ]' % epoch)\n",
    "    net.train()\n",
    "    train_loss = 0\n",
    "    correct = 0\n",
    "    total = 0\n",
    "    for batch_idx, (inputs, targets) in enumerate(train_loader):  #train_loader로 매번 batch_size마다 데이터를 뽑아내서\n",
    "        inputs, targets = inputs.to(device), targets.to(device)\n",
    "        optimizer.zero_grad()\n",
    "\n",
    "        benign_outputs = net(inputs)                             # 그 데이터를 넷에 넣은뒤\n",
    "        loss = criterion(benign_outputs, targets)                # cross_entropy loss에 따라\n",
    "        loss.backward()                                          # backpropagation 진행한다.\n",
    "\n",
    "        optimizer.step()\n",
    "        train_loss += loss.item()\n",
    "        _, predicted = benign_outputs.max(1)                    # loss 값 출력할 수 있게\n",
    "\n",
    "        total += targets.size(0)\n",
    "        correct += predicted.eq(targets).sum().item()\n",
    "        \n",
    "        if batch_idx % 100 == 0:\n",
    "            print('\\nCurrent batch:', str(batch_idx))\n",
    "            print('Current benign train accuracy:', str(predicted.eq(targets).sum().item() / targets.size(0)))\n",
    "            print('Current benign train loss:', loss.item())\n",
    "\n",
    "    print('\\nTotal benign train accuarcy:', 100. * correct / total)\n",
    "    print('Total benign train loss:', train_loss)"
   ]
  },
  {
   "cell_type": "code",
   "execution_count": null,
   "id": "59f04263",
   "metadata": {
    "id": "LhKVe7bBpjw9"
   },
   "outputs": [],
   "source": [
    "def test(epoch):\n",
    "    print('\\n[ Test epoch: %d ]' % epoch)  #epoch끝날때마다 정확도와 loss값 출력하게 만듬\n",
    "    net.eval()\n",
    "    loss = 0\n",
    "    correct = 0\n",
    "    total = 0\n",
    "\n",
    "    for batch_idx, (inputs, targets) in enumerate(test_loader):\n",
    "        inputs, targets = inputs.to(device), targets.to(device)\n",
    "        total += targets.size(0)\n",
    "\n",
    "        outputs = net(inputs)\n",
    "        loss += criterion(outputs, targets).item()\n",
    "\n",
    "        _, predicted = outputs.max(1)\n",
    "        correct += predicted.eq(targets).sum().item()\n",
    "\n",
    "    print('\\nTest accuarcy:', 100. * correct / total)\n",
    "    print('Test average loss:', loss / total)\n",
    "\n",
    "    state = {\n",
    "        'net': net.state_dict()\n",
    "    }\n",
    "    if not os.path.isdir('checkpoint'):\n",
    "        os.mkdir('checkpoint')\n",
    "    torch.save(state, './checkpoint/' + file_name)\n",
    "    print('Model Saved!')"
   ]
  },
  {
   "cell_type": "code",
   "execution_count": null,
   "id": "9faf65cd",
   "metadata": {
    "id": "ACMeDhwEpjw_"
   },
   "outputs": [],
   "source": [
    "def adjust_learning_rate(optimizer, epoch):            #학습이 진행됨에 따라 learning_rate를 낮춰준다. epoch 200번정도 될때 적용가능\n",
    "    lr = learning_rate                                 \n",
    "    if epoch >= 100:                                   # 100번에서 learning_rate 1/10로 줄여줌.\n",
    "        lr /= 10\n",
    "    if epoch >= 150:\n",
    "        lr /= 10                                       # 150번에서 learning_rate 1/10로 줄여줌.\n",
    "    for param_group in optimizer.param_groups:\n",
    "        param_group['lr'] = lr"
   ]
  },
  {
   "cell_type": "markdown",
   "id": "e7a5b5b4",
   "metadata": {
    "id": "0mv5z7CEMRrn"
   },
   "source": [
    "### Training"
   ]
  },
  {
   "cell_type": "code",
   "execution_count": null,
   "id": "2cb2ab64",
   "metadata": {
    "colab": {
     "base_uri": "https://localhost:8080/"
    },
    "id": "4voLj7TKlaB1",
    "outputId": "80c6959a-77c8-45e5-baff-a7ab34648ce5"
   },
   "outputs": [
    {
     "name": "stdout",
     "output_type": "stream",
     "text": [
      "\n",
      "[ Train epoch: 0 ]\n"
     ]
    },
    {
     "name": "stderr",
     "output_type": "stream",
     "text": [
      "/usr/local/lib/python3.7/dist-packages/torch/utils/data/dataloader.py:477: UserWarning: This DataLoader will create 4 worker processes in total. Our suggested max number of worker in current system is 2, which is smaller than what this DataLoader is going to create. Please be aware that excessive worker creation might get DataLoader running slow or even freeze, lower the worker number to avoid potential slowness/freeze if necessary.\n",
      "  cpuset_checked))\n"
     ]
    },
    {
     "name": "stdout",
     "output_type": "stream",
     "text": [
      "\n",
      "Current batch: 0\n",
      "Current benign train accuracy: 0.09375\n",
      "Current benign train loss: 2.5149853229522705\n",
      "\n",
      "Current batch: 100\n",
      "Current benign train accuracy: 0.2578125\n",
      "Current benign train loss: 1.9480993747711182\n",
      "\n",
      "Current batch: 200\n",
      "Current benign train accuracy: 0.3359375\n",
      "Current benign train loss: 1.7385276556015015\n",
      "\n",
      "Current batch: 300\n",
      "Current benign train accuracy: 0.4140625\n",
      "Current benign train loss: 1.5578272342681885\n",
      "\n",
      "Total benign train accuarcy: 29.802\n",
      "Total benign train loss: 759.0298014879227\n",
      "\n",
      "[ Test epoch: 0 ]\n",
      "\n",
      "Test accuarcy: 40.81\n",
      "Test average loss: 0.01645215106010437\n",
      "Model Saved!\n",
      "\n",
      "[ Train epoch: 1 ]\n",
      "\n",
      "Current batch: 0\n",
      "Current benign train accuracy: 0.359375\n",
      "Current benign train loss: 1.7730096578598022\n",
      "\n",
      "Current batch: 100\n",
      "Current benign train accuracy: 0.4375\n",
      "Current benign train loss: 1.4899464845657349\n",
      "\n",
      "Current batch: 200\n",
      "Current benign train accuracy: 0.375\n",
      "Current benign train loss: 1.5350602865219116\n",
      "\n",
      "Current batch: 300\n",
      "Current benign train accuracy: 0.4453125\n",
      "Current benign train loss: 1.4881504774093628\n",
      "\n",
      "Total benign train accuarcy: 46.594\n",
      "Total benign train loss: 568.4641193151474\n",
      "\n",
      "[ Test epoch: 1 ]\n",
      "\n",
      "Test accuarcy: 34.31\n",
      "Test average loss: 0.02152595443725586\n",
      "Model Saved!\n",
      "\n",
      "[ Train epoch: 2 ]\n",
      "\n",
      "Current batch: 0\n",
      "Current benign train accuracy: 0.5703125\n",
      "Current benign train loss: 1.2160861492156982\n",
      "\n",
      "Current batch: 100\n",
      "Current benign train accuracy: 0.5625\n",
      "Current benign train loss: 1.1504734754562378\n",
      "\n",
      "Current batch: 200\n",
      "Current benign train accuracy: 0.59375\n",
      "Current benign train loss: 1.3194844722747803\n",
      "\n",
      "Current batch: 300\n",
      "Current benign train accuracy: 0.6015625\n",
      "Current benign train loss: 1.1031922101974487\n",
      "\n",
      "Total benign train accuarcy: 57.14\n",
      "Total benign train loss: 461.9020483493805\n",
      "\n",
      "[ Test epoch: 2 ]\n",
      "\n",
      "Test accuarcy: 47.47\n",
      "Test average loss: 0.014601650679111481\n",
      "Model Saved!\n",
      "\n",
      "[ Train epoch: 3 ]\n",
      "\n",
      "Current batch: 0\n",
      "Current benign train accuracy: 0.546875\n",
      "Current benign train loss: 1.161926507949829\n",
      "\n",
      "Current batch: 100\n",
      "Current benign train accuracy: 0.671875\n",
      "Current benign train loss: 0.8741982579231262\n",
      "\n",
      "Current batch: 200\n",
      "Current benign train accuracy: 0.6953125\n",
      "Current benign train loss: 0.929290235042572\n",
      "\n",
      "Current batch: 300\n",
      "Current benign train accuracy: 0.609375\n",
      "Current benign train loss: 1.0190882682800293\n",
      "\n",
      "Total benign train accuarcy: 64.574\n",
      "Total benign train loss: 388.96287417411804\n",
      "\n",
      "[ Test epoch: 3 ]\n",
      "\n",
      "Test accuarcy: 62.79\n",
      "Test average loss: 0.011004288291931152\n",
      "Model Saved!\n",
      "\n",
      "[ Train epoch: 4 ]\n",
      "\n",
      "Current batch: 0\n",
      "Current benign train accuracy: 0.5859375\n",
      "Current benign train loss: 1.1102269887924194\n",
      "\n",
      "Current batch: 100\n",
      "Current benign train accuracy: 0.65625\n",
      "Current benign train loss: 0.9520254731178284\n",
      "\n",
      "Current batch: 200\n",
      "Current benign train accuracy: 0.6875\n",
      "Current benign train loss: 0.887843132019043\n",
      "\n",
      "Current batch: 300\n",
      "Current benign train accuracy: 0.65625\n",
      "Current benign train loss: 0.8906025886535645\n",
      "\n",
      "Total benign train accuarcy: 68.666\n",
      "Total benign train loss: 346.4352629184723\n",
      "\n",
      "[ Test epoch: 4 ]\n",
      "\n",
      "Test accuarcy: 42.23\n",
      "Test average loss: 0.022336566746234895\n",
      "Model Saved!\n",
      "\n",
      "[ Train epoch: 5 ]\n",
      "\n",
      "Current batch: 0\n",
      "Current benign train accuracy: 0.6796875\n",
      "Current benign train loss: 0.8555043339729309\n",
      "\n",
      "Current batch: 100\n",
      "Current benign train accuracy: 0.703125\n",
      "Current benign train loss: 0.9097657203674316\n",
      "\n",
      "Current batch: 200\n",
      "Current benign train accuracy: 0.7734375\n",
      "Current benign train loss: 0.7238414287567139\n",
      "\n",
      "Current batch: 300\n",
      "Current benign train accuracy: 0.6953125\n",
      "Current benign train loss: 0.8519065976142883\n",
      "\n",
      "Total benign train accuarcy: 72.96\n",
      "Total benign train loss: 300.8461376428604\n",
      "\n",
      "[ Test epoch: 5 ]\n",
      "\n",
      "Test accuarcy: 74.34\n",
      "Test average loss: 0.007317997717857361\n",
      "Model Saved!\n",
      "\n",
      "[ Train epoch: 6 ]\n",
      "\n",
      "Current batch: 0\n",
      "Current benign train accuracy: 0.7421875\n",
      "Current benign train loss: 0.7527449131011963\n",
      "\n",
      "Current batch: 100\n",
      "Current benign train accuracy: 0.7734375\n",
      "Current benign train loss: 0.6188020706176758\n",
      "\n",
      "Current batch: 200\n",
      "Current benign train accuracy: 0.8046875\n",
      "Current benign train loss: 0.5637849569320679\n",
      "\n",
      "Current batch: 300\n",
      "Current benign train accuracy: 0.8046875\n",
      "Current benign train loss: 0.5783085823059082\n",
      "\n",
      "Total benign train accuarcy: 76.432\n",
      "Total benign train loss: 264.1492760181427\n",
      "\n",
      "[ Test epoch: 6 ]\n",
      "\n",
      "Test accuarcy: 72.2\n",
      "Test average loss: 0.008443772381544113\n",
      "Model Saved!\n",
      "\n",
      "[ Train epoch: 7 ]\n",
      "\n",
      "Current batch: 0\n",
      "Current benign train accuracy: 0.8046875\n",
      "Current benign train loss: 0.5651907920837402\n",
      "\n",
      "Current batch: 100\n",
      "Current benign train accuracy: 0.7890625\n",
      "Current benign train loss: 0.8072783946990967\n",
      "\n",
      "Current batch: 200\n",
      "Current benign train accuracy: 0.8046875\n",
      "Current benign train loss: 0.5586511492729187\n",
      "\n",
      "Current batch: 300\n",
      "Current benign train accuracy: 0.7734375\n",
      "Current benign train loss: 0.6930462121963501\n",
      "\n",
      "Total benign train accuarcy: 79.212\n",
      "Total benign train loss: 232.6439627110958\n",
      "\n",
      "[ Test epoch: 7 ]\n",
      "\n",
      "Test accuarcy: 73.94\n",
      "Test average loss: 0.007997026991844177\n",
      "Model Saved!\n",
      "\n",
      "[ Train epoch: 8 ]\n",
      "\n",
      "Current batch: 0\n",
      "Current benign train accuracy: 0.8046875\n",
      "Current benign train loss: 0.5223881006240845\n",
      "\n",
      "Current batch: 100\n",
      "Current benign train accuracy: 0.8125\n",
      "Current benign train loss: 0.48372456431388855\n",
      "\n",
      "Current batch: 200\n",
      "Current benign train accuracy: 0.7265625\n",
      "Current benign train loss: 0.7039652466773987\n",
      "\n",
      "Current batch: 300\n",
      "Current benign train accuracy: 0.796875\n",
      "Current benign train loss: 0.6032549142837524\n",
      "\n",
      "Total benign train accuarcy: 81.264\n",
      "Total benign train loss: 210.6292431652546\n",
      "\n",
      "[ Test epoch: 8 ]\n",
      "\n",
      "Test accuarcy: 77.39\n",
      "Test average loss: 0.00668577940762043\n",
      "Model Saved!\n",
      "\n",
      "[ Train epoch: 9 ]\n",
      "\n",
      "Current batch: 0\n",
      "Current benign train accuracy: 0.890625\n",
      "Current benign train loss: 0.3535659909248352\n",
      "\n",
      "Current batch: 100\n",
      "Current benign train accuracy: 0.8671875\n",
      "Current benign train loss: 0.4069731831550598\n",
      "\n",
      "Current batch: 200\n",
      "Current benign train accuracy: 0.8125\n",
      "Current benign train loss: 0.5494928359985352\n",
      "\n",
      "Current batch: 300\n",
      "Current benign train accuracy: 0.7421875\n",
      "Current benign train loss: 0.7342487573623657\n",
      "\n",
      "Total benign train accuarcy: 82.946\n",
      "Total benign train loss: 192.36763072013855\n",
      "\n",
      "[ Test epoch: 9 ]\n",
      "\n",
      "Test accuarcy: 78.35\n",
      "Test average loss: 0.006543044781684875\n",
      "Model Saved!\n",
      "\n",
      "[ Train epoch: 10 ]\n",
      "\n",
      "Current batch: 0\n",
      "Current benign train accuracy: 0.8828125\n",
      "Current benign train loss: 0.47389528155326843\n",
      "\n",
      "Current batch: 100\n",
      "Current benign train accuracy: 0.8671875\n",
      "Current benign train loss: 0.3526589870452881\n",
      "\n",
      "Current batch: 200\n",
      "Current benign train accuracy: 0.875\n",
      "Current benign train loss: 0.4494967460632324\n",
      "\n",
      "Current batch: 300\n",
      "Current benign train accuracy: 0.84375\n",
      "Current benign train loss: 0.494920015335083\n",
      "\n",
      "Total benign train accuarcy: 84.212\n",
      "Total benign train loss: 176.9243559241295\n",
      "\n",
      "[ Test epoch: 10 ]\n",
      "\n",
      "Test accuarcy: 78.12\n",
      "Test average loss: 0.006559650298953056\n",
      "Model Saved!\n",
      "\n",
      "[ Train epoch: 11 ]\n",
      "\n",
      "Current batch: 0\n",
      "Current benign train accuracy: 0.859375\n",
      "Current benign train loss: 0.4161228835582733\n",
      "\n",
      "Current batch: 100\n",
      "Current benign train accuracy: 0.859375\n",
      "Current benign train loss: 0.40719595551490784\n",
      "\n",
      "Current batch: 200\n",
      "Current benign train accuracy: 0.859375\n",
      "Current benign train loss: 0.4274263381958008\n",
      "\n",
      "Current batch: 300\n",
      "Current benign train accuracy: 0.8125\n",
      "Current benign train loss: 0.568586528301239\n",
      "\n",
      "Total benign train accuarcy: 85.402\n",
      "Total benign train loss: 164.29633323848248\n",
      "\n",
      "[ Test epoch: 11 ]\n",
      "\n",
      "Test accuarcy: 80.57\n",
      "Test average loss: 0.005880149808526039\n",
      "Model Saved!\n",
      "\n",
      "[ Train epoch: 12 ]\n",
      "\n",
      "Current batch: 0\n",
      "Current benign train accuracy: 0.875\n",
      "Current benign train loss: 0.3875434100627899\n",
      "\n",
      "Current batch: 100\n",
      "Current benign train accuracy: 0.90625\n",
      "Current benign train loss: 0.2890193462371826\n",
      "\n",
      "Current batch: 200\n",
      "Current benign train accuracy: 0.8359375\n",
      "Current benign train loss: 0.5144104957580566\n",
      "\n",
      "Current batch: 300\n",
      "Current benign train accuracy: 0.9296875\n",
      "Current benign train loss: 0.2549838125705719\n",
      "\n",
      "Total benign train accuarcy: 86.21\n",
      "Total benign train loss: 155.1241493821144\n",
      "\n",
      "[ Test epoch: 12 ]\n",
      "\n",
      "Test accuarcy: 81.32\n",
      "Test average loss: 0.0055528001755476\n",
      "Model Saved!\n",
      "\n",
      "[ Train epoch: 13 ]\n",
      "\n",
      "Current batch: 0\n",
      "Current benign train accuracy: 0.8359375\n",
      "Current benign train loss: 0.47475123405456543\n",
      "\n",
      "Current batch: 100\n",
      "Current benign train accuracy: 0.875\n",
      "Current benign train loss: 0.40104612708091736\n",
      "\n",
      "Current batch: 200\n",
      "Current benign train accuracy: 0.875\n",
      "Current benign train loss: 0.34463268518447876\n",
      "\n",
      "Current batch: 300\n",
      "Current benign train accuracy: 0.90625\n",
      "Current benign train loss: 0.28454405069351196\n",
      "\n",
      "Total benign train accuarcy: 87.198\n",
      "Total benign train loss: 145.02574662864208\n",
      "\n",
      "[ Test epoch: 13 ]\n",
      "\n",
      "Test accuarcy: 80.75\n",
      "Test average loss: 0.005809343400597572\n",
      "Model Saved!\n",
      "\n",
      "[ Train epoch: 14 ]\n",
      "\n",
      "Current batch: 0\n",
      "Current benign train accuracy: 0.8515625\n",
      "Current benign train loss: 0.4228631556034088\n",
      "\n",
      "Current batch: 100\n",
      "Current benign train accuracy: 0.8984375\n",
      "Current benign train loss: 0.36416834592819214\n",
      "\n",
      "Current batch: 200\n",
      "Current benign train accuracy: 0.8828125\n",
      "Current benign train loss: 0.305189847946167\n",
      "\n",
      "Current batch: 300\n",
      "Current benign train accuracy: 0.9140625\n",
      "Current benign train loss: 0.2656809687614441\n",
      "\n",
      "Total benign train accuarcy: 87.484\n",
      "Total benign train loss: 140.6657893061638\n",
      "\n",
      "[ Test epoch: 14 ]\n",
      "\n",
      "Test accuarcy: 84.2\n",
      "Test average loss: 0.004776477637887001\n",
      "Model Saved!\n",
      "\n",
      "[ Train epoch: 15 ]\n",
      "\n",
      "Current batch: 0\n",
      "Current benign train accuracy: 0.890625\n",
      "Current benign train loss: 0.3244929909706116\n",
      "\n",
      "Current batch: 100\n",
      "Current benign train accuracy: 0.8984375\n",
      "Current benign train loss: 0.2823909819126129\n",
      "\n",
      "Current batch: 200\n",
      "Current benign train accuracy: 0.875\n",
      "Current benign train loss: 0.3093332350254059\n",
      "\n",
      "Current batch: 300\n",
      "Current benign train accuracy: 0.8828125\n",
      "Current benign train loss: 0.35261955857276917\n",
      "\n",
      "Total benign train accuarcy: 88.112\n",
      "Total benign train loss: 133.5040740519762\n",
      "\n",
      "[ Test epoch: 15 ]\n",
      "\n",
      "Test accuarcy: 85.21\n",
      "Test average loss: 0.004412107004225254\n",
      "Model Saved!\n",
      "\n",
      "[ Train epoch: 16 ]\n",
      "\n",
      "Current batch: 0\n",
      "Current benign train accuracy: 0.890625\n",
      "Current benign train loss: 0.26580753922462463\n",
      "\n",
      "Current batch: 100\n",
      "Current benign train accuracy: 0.9140625\n",
      "Current benign train loss: 0.28944382071495056\n",
      "\n",
      "Current batch: 200\n",
      "Current benign train accuracy: 0.8671875\n",
      "Current benign train loss: 0.3497985005378723\n",
      "\n",
      "Current batch: 300\n",
      "Current benign train accuracy: 0.875\n",
      "Current benign train loss: 0.35303735733032227\n",
      "\n",
      "Total benign train accuarcy: 88.368\n",
      "Total benign train loss: 130.05391792953014\n",
      "\n",
      "[ Test epoch: 16 ]\n",
      "\n",
      "Test accuarcy: 81.4\n",
      "Test average loss: 0.005897639441490173\n",
      "Model Saved!\n",
      "\n",
      "[ Train epoch: 17 ]\n",
      "\n",
      "Current batch: 0\n",
      "Current benign train accuracy: 0.875\n",
      "Current benign train loss: 0.3042570650577545\n",
      "\n",
      "Current batch: 100\n",
      "Current benign train accuracy: 0.8984375\n",
      "Current benign train loss: 0.24561931192874908\n",
      "\n",
      "Current batch: 200\n",
      "Current benign train accuracy: 0.859375\n",
      "Current benign train loss: 0.4264046549797058\n",
      "\n",
      "Current batch: 300\n",
      "Current benign train accuracy: 0.90625\n",
      "Current benign train loss: 0.32725948095321655\n",
      "\n",
      "Total benign train accuarcy: 88.868\n",
      "Total benign train loss: 123.97723735123873\n",
      "\n",
      "[ Test epoch: 17 ]\n",
      "\n",
      "Test accuarcy: 81.86\n",
      "Test average loss: 0.00569234993159771\n",
      "Model Saved!\n",
      "\n",
      "[ Train epoch: 18 ]\n",
      "\n",
      "Current batch: 0\n",
      "Current benign train accuracy: 0.9140625\n",
      "Current benign train loss: 0.27165353298187256\n",
      "\n",
      "Current batch: 100\n",
      "Current benign train accuracy: 0.875\n",
      "Current benign train loss: 0.3194287121295929\n",
      "\n",
      "Current batch: 200\n",
      "Current benign train accuracy: 0.8671875\n",
      "Current benign train loss: 0.41067731380462646\n",
      "\n",
      "Current batch: 300\n",
      "Current benign train accuracy: 0.8828125\n",
      "Current benign train loss: 0.3027895987033844\n",
      "\n",
      "Total benign train accuarcy: 89.342\n",
      "Total benign train loss: 120.89396251738071\n",
      "\n",
      "[ Test epoch: 18 ]\n",
      "\n",
      "Test accuarcy: 83.88\n",
      "Test average loss: 0.004877812084555626\n",
      "Model Saved!\n",
      "\n",
      "[ Train epoch: 19 ]\n",
      "\n",
      "Current batch: 0\n",
      "Current benign train accuracy: 0.9296875\n",
      "Current benign train loss: 0.2510964274406433\n",
      "\n",
      "Current batch: 100\n",
      "Current benign train accuracy: 0.8828125\n",
      "Current benign train loss: 0.301445871591568\n",
      "\n",
      "Current batch: 200\n",
      "Current benign train accuracy: 0.9140625\n",
      "Current benign train loss: 0.277431458234787\n",
      "\n",
      "Current batch: 300\n",
      "Current benign train accuracy: 0.8671875\n",
      "Current benign train loss: 0.33919572830200195\n",
      "\n",
      "Total benign train accuarcy: 89.992\n",
      "Total benign train loss: 114.95470386743546\n",
      "\n",
      "[ Test epoch: 19 ]\n",
      "\n",
      "Test accuarcy: 83.66\n",
      "Test average loss: 0.004897705417871475\n",
      "Model Saved!\n"
     ]
    }
   ],
   "source": [
    "for epoch in range(0, 20):\n",
    "    adjust_learning_rate(optimizer, epoch)\n",
    "    train(epoch)\n",
    "    test(epoch)"
   ]
  },
  {
   "cell_type": "markdown",
   "id": "e277bf3a",
   "metadata": {},
   "source": [
    "."
   ]
  },
  {
   "cell_type": "markdown",
   "id": "e7d10ee0",
   "metadata": {
    "id": "a4728e54"
   },
   "source": [
    "# 1.3 googLeNet"
   ]
  },
  {
   "cell_type": "markdown",
   "id": "1da6bee4",
   "metadata": {
    "id": "HLHHHhtpZU6z"
   },
   "source": [
    "googLeNet이 아주 딥한 신경망으로 구성되어 학습이 가능했던 것은 Inception Module 때문입니다. \n",
    "\n",
    "Inception Module은 입력값에 대해 , 4가지 종류의 Convolution,Pooling을 수행하고, 4개 결과를 채널방향으로 합칩니다. 이러한 Inception Module이 모델에 총 9개가 있습니다.\n",
    "\n",
    "1) 1x1 convolution       \n",
    "2) 1x1 convolution + 3x3 convolution        \n",
    "3) 3x3 convolution + 5x5 convolution         \n",
    "4) 3x3 MaxPooling + 1x1 convolution         \n",
    "\n",
    "이 4개의 연산결과를 featuremap을 쌓습니다.\n",
    "\n",
    "3x3 MaxPooling에서 입력과 출력의 Dimension같아야하므로 Pooling에서 Padding을 추가해주는 방식입니다."
   ]
  },
  {
   "cell_type": "code",
   "execution_count": 3,
   "id": "85f13526",
   "metadata": {
    "id": "2885aefa"
   },
   "outputs": [],
   "source": [
    "import tensorflow as tf"
   ]
  },
  {
   "cell_type": "markdown",
   "id": "8604b90a",
   "metadata": {
    "id": "f08efc22"
   },
   "source": [
    "### inception block 정의"
   ]
  },
  {
   "cell_type": "markdown",
   "id": "5a831102",
   "metadata": {
    "id": "HIi8D34Ha54L"
   },
   "source": [
    "1x1 convolution 연산의 장점으로 featuremap의 갯수를 줄이는 것 입니다. featuremap의 갯수가 줄어들면 그만큼 연산량이 줄어듭니다.      "
   ]
  },
  {
   "cell_type": "code",
   "execution_count": 4,
   "id": "b66f6c30",
   "metadata": {
    "id": "b09f00f2"
   },
   "outputs": [],
   "source": [
    "def inception_block(in_layer, n1x1, n3x3r, n3x3, n5x5r, n5x5, npool, reduce=False):\n",
    "    block_1x1 = tf.keras.layers.Conv2D(n1x1, (1, 1), padding='SAME', activation='relu')(in_layer)\n",
    "\n",
    "    block_3x3 = tf.keras.layers.Conv2D(n3x3r, (1, 1), padding='SAME', activation='relu')(in_layer)\n",
    "    block_3x3 = tf.keras.layers.Conv2D(n3x3, (3, 3), padding='SAME', activation='relu')(block_3x3)\n",
    "\n",
    "    block_5x5 = tf.keras.layers.Conv2D(n5x5r, (1, 1), padding='SAME', activation='relu')(in_layer)\n",
    "    block_5x5 = tf.keras.layers.Conv2D(n5x5, (5, 5), padding='SAME', activation='relu')(block_5x5)\n",
    "\n",
    "    block_pool = tf.keras.layers.MaxPool2D((3, 3), strides=(1, 1), padding='SAME')(in_layer)\n",
    "    block_pool = tf.keras.layers.Conv2D(npool, (1, 1), padding='SAME', activation='relu')(block_pool)\n",
    "\n",
    "    block = tf.keras.layers.Concatenate()([block_1x1, block_3x3, block_5x5, block_pool])\n",
    "\n",
    "    if reduce:\n",
    "        block = tf.keras.layers.MaxPool2D((3, 3), strides=(2, 2), padding='SAME')(block)\n",
    "\n",
    "    return block"
   ]
  },
  {
   "cell_type": "markdown",
   "id": "1ca76968",
   "metadata": {
    "id": "8fdff4cd"
   },
   "source": [
    "### Data load & test-train Split"
   ]
  },
  {
   "cell_type": "code",
   "execution_count": 5,
   "id": "f2b160c3",
   "metadata": {
    "colab": {
     "base_uri": "https://localhost:8080/"
    },
    "id": "265c6af5",
    "outputId": "6b9b2885-72d1-45ca-f310-2b1714ccac3f"
   },
   "outputs": [
    {
     "name": "stdout",
     "output_type": "stream",
     "text": [
      "Downloading data from https://www.cs.toronto.edu/~kriz/cifar-10-python.tar.gz\n",
      "170500096/170498071 [==============================] - 2s 0us/step\n"
     ]
    }
   ],
   "source": [
    "(x_train, y_train), (x_test, y_test) = tf.keras.datasets.cifar10.load_data()\n",
    "\n",
    "x_train, x_test = x_train / 255.0, x_test / 255.0"
   ]
  },
  {
   "cell_type": "markdown",
   "id": "dd94b010",
   "metadata": {
    "id": "6a0f252e"
   },
   "source": [
    "### googLeMet Architecture"
   ]
  },
  {
   "cell_type": "code",
   "execution_count": 6,
   "id": "61a94045",
   "metadata": {
    "id": "5b0f6281"
   },
   "outputs": [],
   "source": [
    "input_layer = tf.keras.layers.Input(shape=(32, 32, 3))\n",
    "\n",
    "stem_layer = tf.keras.layers.Conv2D(32, (3, 3), strides=(1, 1), padding='SAME', activation='relu')(input_layer)\n",
    "# Max Pooling Here on Original Inception (3x3, stride=2)\n",
    "stem_layer = tf.keras.layers.Conv2D(64, (3, 3), strides=(1, 1), padding='SAME', activation='relu')(stem_layer)\n",
    "# Max Pooling Here on Original Inception (3x3, stride=2)\n",
    "\n",
    "inception_block3a = inception_block(stem_layer, 32, 48, 64, 8, 16, 16, reduce=False) # 32x32x128\n",
    "inception_block3b = inception_block(inception_block3a, 64, 64, 96, 16, 48, 32, reduce=True) # 16x16x240\n",
    "\n",
    "inception_block4a = inception_block(inception_block3b, 96, 48, 104, 8, 24, 32, reduce=False) # 16x16x256\n",
    "inception_block4b = inception_block(inception_block4a, 80, 56, 112, 12, 32, 32, reduce=False) # 16x16x256\n",
    "inception_block4c = inception_block(inception_block4b, 64, 64, 128, 12, 32, 32, reduce=False) # 16x16x256\n",
    "inception_block4d = inception_block(inception_block4c, 56, 72, 144, 16, 32, 32, reduce=False) # 16x16x264\n",
    "inception_block4e = inception_block(inception_block4d, 128, 80, 160, 16, 64, 64, reduce=True) # 8x8x416\n",
    "\n",
    "inception_block5a = inception_block(inception_block4e, 128, 80, 160, 16, 64, 64, reduce=False) # 8x8x416\n",
    "inception_block5b = inception_block(inception_block5a, 192, 96, 192, 24, 64, 64, reduce=False) # 8x8x512\n",
    "\n",
    "#googLeNet은 Fully connected 방식대신에 global average pooling을 쓴다. 1차원으로 만들어 softmax층과 연결해준다\n",
    "avg_pool = tf.keras.layers.GlobalAveragePooling2D()(inception_block5b) # 512\n",
    "dropout = tf.keras.layers.Dropout(0.4)(avg_pool)\n",
    "out_layer = tf.keras.layers.Dense(10, activation='softmax')(dropout)"
   ]
  },
  {
   "cell_type": "code",
   "execution_count": 7,
   "id": "ab172508",
   "metadata": {
    "id": "b321f2ce"
   },
   "outputs": [],
   "source": [
    "model = tf.keras.models.Model(input_layer, out_layer)"
   ]
  },
  {
   "cell_type": "code",
   "execution_count": 8,
   "id": "757366b1",
   "metadata": {
    "colab": {
     "base_uri": "https://localhost:8080/"
    },
    "id": "860793b2",
    "outputId": "ff6272a9-fb58-48dc-c5fd-2691c5d7d41e"
   },
   "outputs": [
    {
     "name": "stdout",
     "output_type": "stream",
     "text": [
      "Model: \"model\"\n",
      "__________________________________________________________________________________________________\n",
      "Layer (type)                    Output Shape         Param #     Connected to                     \n",
      "==================================================================================================\n",
      "input_1 (InputLayer)            [(None, 32, 32, 3)]  0                                            \n",
      "__________________________________________________________________________________________________\n",
      "conv2d (Conv2D)                 (None, 32, 32, 32)   896         input_1[0][0]                    \n",
      "__________________________________________________________________________________________________\n",
      "conv2d_1 (Conv2D)               (None, 32, 32, 64)   18496       conv2d[0][0]                     \n",
      "__________________________________________________________________________________________________\n",
      "conv2d_3 (Conv2D)               (None, 32, 32, 48)   3120        conv2d_1[0][0]                   \n",
      "__________________________________________________________________________________________________\n",
      "conv2d_5 (Conv2D)               (None, 32, 32, 8)    520         conv2d_1[0][0]                   \n",
      "__________________________________________________________________________________________________\n",
      "max_pooling2d (MaxPooling2D)    (None, 32, 32, 64)   0           conv2d_1[0][0]                   \n",
      "__________________________________________________________________________________________________\n",
      "conv2d_2 (Conv2D)               (None, 32, 32, 32)   2080        conv2d_1[0][0]                   \n",
      "__________________________________________________________________________________________________\n",
      "conv2d_4 (Conv2D)               (None, 32, 32, 64)   27712       conv2d_3[0][0]                   \n",
      "__________________________________________________________________________________________________\n",
      "conv2d_6 (Conv2D)               (None, 32, 32, 16)   3216        conv2d_5[0][0]                   \n",
      "__________________________________________________________________________________________________\n",
      "conv2d_7 (Conv2D)               (None, 32, 32, 16)   1040        max_pooling2d[0][0]              \n",
      "__________________________________________________________________________________________________\n",
      "concatenate (Concatenate)       (None, 32, 32, 128)  0           conv2d_2[0][0]                   \n",
      "                                                                 conv2d_4[0][0]                   \n",
      "                                                                 conv2d_6[0][0]                   \n",
      "                                                                 conv2d_7[0][0]                   \n",
      "__________________________________________________________________________________________________\n",
      "conv2d_9 (Conv2D)               (None, 32, 32, 64)   8256        concatenate[0][0]                \n",
      "__________________________________________________________________________________________________\n",
      "conv2d_11 (Conv2D)              (None, 32, 32, 16)   2064        concatenate[0][0]                \n",
      "__________________________________________________________________________________________________\n",
      "max_pooling2d_1 (MaxPooling2D)  (None, 32, 32, 128)  0           concatenate[0][0]                \n",
      "__________________________________________________________________________________________________\n",
      "conv2d_8 (Conv2D)               (None, 32, 32, 64)   8256        concatenate[0][0]                \n",
      "__________________________________________________________________________________________________\n",
      "conv2d_10 (Conv2D)              (None, 32, 32, 96)   55392       conv2d_9[0][0]                   \n",
      "__________________________________________________________________________________________________\n",
      "conv2d_12 (Conv2D)              (None, 32, 32, 48)   19248       conv2d_11[0][0]                  \n",
      "__________________________________________________________________________________________________\n",
      "conv2d_13 (Conv2D)              (None, 32, 32, 32)   4128        max_pooling2d_1[0][0]            \n",
      "__________________________________________________________________________________________________\n",
      "concatenate_1 (Concatenate)     (None, 32, 32, 240)  0           conv2d_8[0][0]                   \n",
      "                                                                 conv2d_10[0][0]                  \n",
      "                                                                 conv2d_12[0][0]                  \n",
      "                                                                 conv2d_13[0][0]                  \n",
      "__________________________________________________________________________________________________\n",
      "max_pooling2d_2 (MaxPooling2D)  (None, 16, 16, 240)  0           concatenate_1[0][0]              \n",
      "__________________________________________________________________________________________________\n",
      "conv2d_15 (Conv2D)              (None, 16, 16, 48)   11568       max_pooling2d_2[0][0]            \n",
      "__________________________________________________________________________________________________\n",
      "conv2d_17 (Conv2D)              (None, 16, 16, 8)    1928        max_pooling2d_2[0][0]            \n",
      "__________________________________________________________________________________________________\n",
      "max_pooling2d_3 (MaxPooling2D)  (None, 16, 16, 240)  0           max_pooling2d_2[0][0]            \n",
      "__________________________________________________________________________________________________\n",
      "conv2d_14 (Conv2D)              (None, 16, 16, 96)   23136       max_pooling2d_2[0][0]            \n",
      "__________________________________________________________________________________________________\n",
      "conv2d_16 (Conv2D)              (None, 16, 16, 104)  45032       conv2d_15[0][0]                  \n",
      "__________________________________________________________________________________________________\n",
      "conv2d_18 (Conv2D)              (None, 16, 16, 24)   4824        conv2d_17[0][0]                  \n",
      "__________________________________________________________________________________________________\n",
      "conv2d_19 (Conv2D)              (None, 16, 16, 32)   7712        max_pooling2d_3[0][0]            \n",
      "__________________________________________________________________________________________________\n",
      "concatenate_2 (Concatenate)     (None, 16, 16, 256)  0           conv2d_14[0][0]                  \n",
      "                                                                 conv2d_16[0][0]                  \n",
      "                                                                 conv2d_18[0][0]                  \n",
      "                                                                 conv2d_19[0][0]                  \n",
      "__________________________________________________________________________________________________\n",
      "conv2d_21 (Conv2D)              (None, 16, 16, 56)   14392       concatenate_2[0][0]              \n",
      "__________________________________________________________________________________________________\n",
      "conv2d_23 (Conv2D)              (None, 16, 16, 12)   3084        concatenate_2[0][0]              \n",
      "__________________________________________________________________________________________________\n",
      "max_pooling2d_4 (MaxPooling2D)  (None, 16, 16, 256)  0           concatenate_2[0][0]              \n",
      "__________________________________________________________________________________________________\n",
      "conv2d_20 (Conv2D)              (None, 16, 16, 80)   20560       concatenate_2[0][0]              \n",
      "__________________________________________________________________________________________________\n",
      "conv2d_22 (Conv2D)              (None, 16, 16, 112)  56560       conv2d_21[0][0]                  \n",
      "__________________________________________________________________________________________________\n",
      "conv2d_24 (Conv2D)              (None, 16, 16, 32)   9632        conv2d_23[0][0]                  \n",
      "__________________________________________________________________________________________________\n",
      "conv2d_25 (Conv2D)              (None, 16, 16, 32)   8224        max_pooling2d_4[0][0]            \n",
      "__________________________________________________________________________________________________\n",
      "concatenate_3 (Concatenate)     (None, 16, 16, 256)  0           conv2d_20[0][0]                  \n",
      "                                                                 conv2d_22[0][0]                  \n",
      "                                                                 conv2d_24[0][0]                  \n",
      "                                                                 conv2d_25[0][0]                  \n",
      "__________________________________________________________________________________________________\n",
      "conv2d_27 (Conv2D)              (None, 16, 16, 64)   16448       concatenate_3[0][0]              \n",
      "__________________________________________________________________________________________________\n",
      "conv2d_29 (Conv2D)              (None, 16, 16, 12)   3084        concatenate_3[0][0]              \n",
      "__________________________________________________________________________________________________\n",
      "max_pooling2d_5 (MaxPooling2D)  (None, 16, 16, 256)  0           concatenate_3[0][0]              \n",
      "__________________________________________________________________________________________________\n",
      "conv2d_26 (Conv2D)              (None, 16, 16, 64)   16448       concatenate_3[0][0]              \n",
      "__________________________________________________________________________________________________\n",
      "conv2d_28 (Conv2D)              (None, 16, 16, 128)  73856       conv2d_27[0][0]                  \n",
      "__________________________________________________________________________________________________\n",
      "conv2d_30 (Conv2D)              (None, 16, 16, 32)   9632        conv2d_29[0][0]                  \n",
      "__________________________________________________________________________________________________\n",
      "conv2d_31 (Conv2D)              (None, 16, 16, 32)   8224        max_pooling2d_5[0][0]            \n",
      "__________________________________________________________________________________________________\n",
      "concatenate_4 (Concatenate)     (None, 16, 16, 256)  0           conv2d_26[0][0]                  \n",
      "                                                                 conv2d_28[0][0]                  \n",
      "                                                                 conv2d_30[0][0]                  \n",
      "                                                                 conv2d_31[0][0]                  \n",
      "__________________________________________________________________________________________________\n",
      "conv2d_33 (Conv2D)              (None, 16, 16, 72)   18504       concatenate_4[0][0]              \n",
      "__________________________________________________________________________________________________\n",
      "conv2d_35 (Conv2D)              (None, 16, 16, 16)   4112        concatenate_4[0][0]              \n",
      "__________________________________________________________________________________________________\n",
      "max_pooling2d_6 (MaxPooling2D)  (None, 16, 16, 256)  0           concatenate_4[0][0]              \n",
      "__________________________________________________________________________________________________\n",
      "conv2d_32 (Conv2D)              (None, 16, 16, 56)   14392       concatenate_4[0][0]              \n",
      "__________________________________________________________________________________________________\n",
      "conv2d_34 (Conv2D)              (None, 16, 16, 144)  93456       conv2d_33[0][0]                  \n",
      "__________________________________________________________________________________________________\n",
      "conv2d_36 (Conv2D)              (None, 16, 16, 32)   12832       conv2d_35[0][0]                  \n",
      "__________________________________________________________________________________________________\n",
      "conv2d_37 (Conv2D)              (None, 16, 16, 32)   8224        max_pooling2d_6[0][0]            \n",
      "__________________________________________________________________________________________________\n",
      "concatenate_5 (Concatenate)     (None, 16, 16, 264)  0           conv2d_32[0][0]                  \n",
      "                                                                 conv2d_34[0][0]                  \n",
      "                                                                 conv2d_36[0][0]                  \n",
      "                                                                 conv2d_37[0][0]                  \n",
      "__________________________________________________________________________________________________\n",
      "conv2d_39 (Conv2D)              (None, 16, 16, 80)   21200       concatenate_5[0][0]              \n",
      "__________________________________________________________________________________________________\n",
      "conv2d_41 (Conv2D)              (None, 16, 16, 16)   4240        concatenate_5[0][0]              \n",
      "__________________________________________________________________________________________________\n",
      "max_pooling2d_7 (MaxPooling2D)  (None, 16, 16, 264)  0           concatenate_5[0][0]              \n",
      "__________________________________________________________________________________________________\n",
      "conv2d_38 (Conv2D)              (None, 16, 16, 128)  33920       concatenate_5[0][0]              \n",
      "__________________________________________________________________________________________________\n",
      "conv2d_40 (Conv2D)              (None, 16, 16, 160)  115360      conv2d_39[0][0]                  \n",
      "__________________________________________________________________________________________________\n",
      "conv2d_42 (Conv2D)              (None, 16, 16, 64)   25664       conv2d_41[0][0]                  \n",
      "__________________________________________________________________________________________________\n",
      "conv2d_43 (Conv2D)              (None, 16, 16, 64)   16960       max_pooling2d_7[0][0]            \n",
      "__________________________________________________________________________________________________\n",
      "concatenate_6 (Concatenate)     (None, 16, 16, 416)  0           conv2d_38[0][0]                  \n",
      "                                                                 conv2d_40[0][0]                  \n",
      "                                                                 conv2d_42[0][0]                  \n",
      "                                                                 conv2d_43[0][0]                  \n",
      "__________________________________________________________________________________________________\n",
      "max_pooling2d_8 (MaxPooling2D)  (None, 8, 8, 416)    0           concatenate_6[0][0]              \n",
      "__________________________________________________________________________________________________\n",
      "conv2d_45 (Conv2D)              (None, 8, 8, 80)     33360       max_pooling2d_8[0][0]            \n",
      "__________________________________________________________________________________________________\n",
      "conv2d_47 (Conv2D)              (None, 8, 8, 16)     6672        max_pooling2d_8[0][0]            \n",
      "__________________________________________________________________________________________________\n",
      "max_pooling2d_9 (MaxPooling2D)  (None, 8, 8, 416)    0           max_pooling2d_8[0][0]            \n",
      "__________________________________________________________________________________________________\n",
      "conv2d_44 (Conv2D)              (None, 8, 8, 128)    53376       max_pooling2d_8[0][0]            \n",
      "__________________________________________________________________________________________________\n",
      "conv2d_46 (Conv2D)              (None, 8, 8, 160)    115360      conv2d_45[0][0]                  \n",
      "__________________________________________________________________________________________________\n",
      "conv2d_48 (Conv2D)              (None, 8, 8, 64)     25664       conv2d_47[0][0]                  \n",
      "__________________________________________________________________________________________________\n",
      "conv2d_49 (Conv2D)              (None, 8, 8, 64)     26688       max_pooling2d_9[0][0]            \n",
      "__________________________________________________________________________________________________\n",
      "concatenate_7 (Concatenate)     (None, 8, 8, 416)    0           conv2d_44[0][0]                  \n",
      "                                                                 conv2d_46[0][0]                  \n",
      "                                                                 conv2d_48[0][0]                  \n",
      "                                                                 conv2d_49[0][0]                  \n",
      "__________________________________________________________________________________________________\n",
      "conv2d_51 (Conv2D)              (None, 8, 8, 96)     40032       concatenate_7[0][0]              \n",
      "__________________________________________________________________________________________________\n",
      "conv2d_53 (Conv2D)              (None, 8, 8, 24)     10008       concatenate_7[0][0]              \n",
      "__________________________________________________________________________________________________\n",
      "max_pooling2d_10 (MaxPooling2D) (None, 8, 8, 416)    0           concatenate_7[0][0]              \n",
      "__________________________________________________________________________________________________\n",
      "conv2d_50 (Conv2D)              (None, 8, 8, 192)    80064       concatenate_7[0][0]              \n",
      "__________________________________________________________________________________________________\n",
      "conv2d_52 (Conv2D)              (None, 8, 8, 192)    166080      conv2d_51[0][0]                  \n",
      "__________________________________________________________________________________________________\n",
      "conv2d_54 (Conv2D)              (None, 8, 8, 64)     38464       conv2d_53[0][0]                  \n",
      "__________________________________________________________________________________________________\n",
      "conv2d_55 (Conv2D)              (None, 8, 8, 64)     26688       max_pooling2d_10[0][0]           \n",
      "__________________________________________________________________________________________________\n",
      "concatenate_8 (Concatenate)     (None, 8, 8, 512)    0           conv2d_50[0][0]                  \n",
      "                                                                 conv2d_52[0][0]                  \n",
      "                                                                 conv2d_54[0][0]                  \n",
      "                                                                 conv2d_55[0][0]                  \n",
      "__________________________________________________________________________________________________\n",
      "global_average_pooling2d (Globa (None, 512)          0           concatenate_8[0][0]              \n",
      "__________________________________________________________________________________________________\n",
      "dropout (Dropout)               (None, 512)          0           global_average_pooling2d[0][0]   \n",
      "__________________________________________________________________________________________________\n",
      "dense (Dense)                   (None, 10)           5130        dropout[0][0]                    \n",
      "==================================================================================================\n",
      "Total params: 1,485,218\n",
      "Trainable params: 1,485,218\n",
      "Non-trainable params: 0\n",
      "__________________________________________________________________________________________________\n"
     ]
    }
   ],
   "source": [
    "model.compile(optimizer='adam', loss='sparse_categorical_crossentropy', metrics=['accuracy'])\n",
    "model.summary()"
   ]
  },
  {
   "cell_type": "code",
   "execution_count": 9,
   "id": "ee5b6c93",
   "metadata": {
    "colab": {
     "base_uri": "https://localhost:8080/"
    },
    "id": "035195e4",
    "outputId": "df78f032-a13f-4c38-fa9f-b6e51c032128"
   },
   "outputs": [
    {
     "name": "stdout",
     "output_type": "stream",
     "text": [
      "Epoch 1/10\n",
      "391/391 [==============================] - 105s 175ms/step - loss: 2.0765 - accuracy: 0.1923 - val_loss: 1.7266 - val_accuracy: 0.3526\n",
      "Epoch 2/10\n",
      "391/391 [==============================] - 65s 165ms/step - loss: 1.5486 - accuracy: 0.4166 - val_loss: 1.4160 - val_accuracy: 0.4812\n",
      "Epoch 3/10\n",
      "391/391 [==============================] - 65s 166ms/step - loss: 1.2484 - accuracy: 0.5444 - val_loss: 1.1975 - val_accuracy: 0.5672\n",
      "Epoch 4/10\n",
      "391/391 [==============================] - 65s 166ms/step - loss: 1.0445 - accuracy: 0.6259 - val_loss: 0.9551 - val_accuracy: 0.6605\n",
      "Epoch 5/10\n",
      "391/391 [==============================] - 65s 166ms/step - loss: 0.8920 - accuracy: 0.6844 - val_loss: 0.8541 - val_accuracy: 0.6983\n",
      "Epoch 6/10\n",
      "391/391 [==============================] - 65s 166ms/step - loss: 0.7886 - accuracy: 0.7227 - val_loss: 0.7750 - val_accuracy: 0.7249\n",
      "Epoch 7/10\n",
      "391/391 [==============================] - 65s 166ms/step - loss: 0.6949 - accuracy: 0.7583 - val_loss: 0.7515 - val_accuracy: 0.7481\n",
      "Epoch 8/10\n",
      "391/391 [==============================] - 65s 166ms/step - loss: 0.6290 - accuracy: 0.7790 - val_loss: 0.6703 - val_accuracy: 0.7670\n",
      "Epoch 9/10\n",
      "391/391 [==============================] - 65s 166ms/step - loss: 0.5687 - accuracy: 0.8025 - val_loss: 0.6545 - val_accuracy: 0.7771\n",
      "Epoch 10/10\n",
      "391/391 [==============================] - 65s 166ms/step - loss: 0.5274 - accuracy: 0.8159 - val_loss: 0.6608 - val_accuracy: 0.7826\n"
     ]
    }
   ],
   "source": [
    "history=model.fit(x_train, y_train, batch_size=128, epochs=10,\n",
    "          validation_data=(x_test, y_test))"
   ]
  },
  {
   "cell_type": "code",
   "execution_count": 10,
   "id": "d5f3bd0b",
   "metadata": {
    "colab": {
     "base_uri": "https://localhost:8080/",
     "height": 279
    },
    "id": "5yOQ0lcJUxKq",
    "outputId": "28c53364-3b46-41a5-8da2-38ac8c2e7de4"
   },
   "outputs": [
    {
     "data": {
      "image/png": "[encoded data removed]",
      "text/plain": [
       "<Figure size 864x288 with 2 Axes>"
      ]
     },
     "metadata": {
      "needs_background": "light",
      "tags": []
     },
     "output_type": "display_data"
    }
   ],
   "source": [
    "import matplotlib.pyplot as plt\n",
    "\n",
    "plt.figure(figsize=(12,4))\n",
    "\n",
    "plt.subplot(1,2,1)\n",
    "plt.plot(history.history['loss'], 'b--', label='loss')\n",
    "plt.plot(history.history['val_loss'], 'r:', label='val_loss')\n",
    "plt.xlabel('epoch')\n",
    "plt.grid()\n",
    "plt.legend()\n",
    "\n",
    "plt.subplot(1,2,2)\n",
    "plt.plot(history.history['accuracy'], 'b--', label='accuracy')\n",
    "plt.plot(history.history['val_accuracy'], 'r:', label='val accuracy')\n",
    "plt.xlabel('epoch')\n",
    "plt.grid()\n",
    "plt.legend()\n",
    "\n",
    "plt.show()"
   ]
  },
  {
   "cell_type": "markdown",
   "id": "615c20d7",
   "metadata": {},
   "source": [
    "."
   ]
  },
  {
   "cell_type": "markdown",
   "id": "fef173e9",
   "metadata": {
    "id": "e4c3bb3f"
   },
   "source": [
    "# 1.4 VGG"
   ]
  },
  {
   "cell_type": "code",
   "execution_count": null,
   "id": "204cedd9",
   "metadata": {
    "id": "f0fc7fa0"
   },
   "outputs": [],
   "source": [
    "import tensorflow as tf\n",
    "import numpy as np"
   ]
  },
  {
   "cell_type": "markdown",
   "id": "81fce98f",
   "metadata": {
    "id": "e8d7242e"
   },
   "source": [
    "### Data load & train-test split"
   ]
  },
  {
   "cell_type": "code",
   "execution_count": null,
   "id": "111b4f9e",
   "metadata": {
    "colab": {
     "base_uri": "https://localhost:8080/"
    },
    "id": "3494024c",
    "outputId": "e58512e1-65d2-4e77-d245-94f6162d184e"
   },
   "outputs": [
    {
     "name": "stdout",
     "output_type": "stream",
     "text": [
      "Downloading data from https://www.cs.toronto.edu/~kriz/cifar-10-python.tar.gz\n",
      "170500096/170498071 [==============================] - 2s 0us/step\n"
     ]
    }
   ],
   "source": [
    "(x_train, y_train), (x_test, y_test) = tf.keras.datasets.cifar10.load_data()\n",
    "\n",
    "x_train, x_test = x_train / 255.0, x_test / 255.0\n"
   ]
  },
  {
   "cell_type": "markdown",
   "id": "5ad02e41",
   "metadata": {
    "id": "cd2e1f66"
   },
   "source": [
    "### vgg_block 정의\n",
    "VGG 연구팀은 깊이의 영향만을 최대한 확인하고자 convolution filter size는 가장 작은 3 x 3으로 고정했습다.그러므로 여기서도 3x3으로 고정시켜줄 것입니다."
   ]
  },
  {
   "cell_type": "code",
   "execution_count": null,
   "id": "49066a57",
   "metadata": {
    "id": "b4ca37de"
   },
   "outputs": [],
   "source": [
    "def vgg_block(in_layer, n_conv, n_filter, filter_size=(3, 3), reduce_size=True): \n",
    "    layer = in_layer\n",
    "    for i in range(n_conv):\n",
    "        layer = tf.keras.layers.Conv2D(n_filter, filter_size, padding='SAME', activation='relu')(layer)\n",
    "\n",
    "    if reduce_size:\n",
    "        layer = tf.keras.layers.MaxPool2D((2, 2))(layer)\n",
    "    return layer"
   ]
  },
  {
   "cell_type": "markdown",
   "id": "d566fe09",
   "metadata": {
    "id": "66b8cb50"
   },
   "source": [
    "### VGG Architecture"
   ]
  },
  {
   "cell_type": "code",
   "execution_count": null,
   "id": "bfae9c97",
   "metadata": {
    "id": "43459a58"
   },
   "outputs": [],
   "source": [
    "input_layer = tf.keras.layers.Input(shape=(32, 32, 3)) #cifar dimension\n",
    "vgg_block01 = vgg_block(input_layer, 2, 32) # 16x16x32\n",
    "vgg_block02 = vgg_block(vgg_block01, 2, 64) # 8x8x64\n",
    "vgg_block03 = vgg_block(vgg_block02, 3, 128) # 4x4x128\n",
    "\n",
    "flatten = tf.keras.layers.Flatten()(vgg_block03) # 2048\n",
    "dense01 = tf.keras.layers.Dense(512, activation='relu')(flatten)\n",
    "output = tf.keras.layers.Dense(10, activation='softmax')(dense01)"
   ]
  },
  {
   "cell_type": "code",
   "execution_count": null,
   "id": "57e22411",
   "metadata": {
    "id": "f6b67e6f"
   },
   "outputs": [],
   "source": [
    "model = tf.keras.models.Model(input_layer, output)"
   ]
  },
  {
   "cell_type": "code",
   "execution_count": null,
   "id": "5979f6eb",
   "metadata": {
    "colab": {
     "base_uri": "https://localhost:8080/"
    },
    "id": "52fc17df",
    "outputId": "e4bf8a01-6b7c-447d-db09-4790e052a66e"
   },
   "outputs": [
    {
     "name": "stdout",
     "output_type": "stream",
     "text": [
      "Model: \"model\"\n",
      "_________________________________________________________________\n",
      "Layer (type)                 Output Shape              Param #   \n",
      "=================================================================\n",
      "input_1 (InputLayer)         [(None, 32, 32, 3)]       0         \n",
      "_________________________________________________________________\n",
      "conv2d (Conv2D)              (None, 32, 32, 32)        896       \n",
      "_________________________________________________________________\n",
      "conv2d_1 (Conv2D)            (None, 32, 32, 32)        9248      \n",
      "_________________________________________________________________\n",
      "max_pooling2d (MaxPooling2D) (None, 16, 16, 32)        0         \n",
      "_________________________________________________________________\n",
      "conv2d_2 (Conv2D)            (None, 16, 16, 64)        18496     \n",
      "_________________________________________________________________\n",
      "conv2d_3 (Conv2D)            (None, 16, 16, 64)        36928     \n",
      "_________________________________________________________________\n",
      "max_pooling2d_1 (MaxPooling2 (None, 8, 8, 64)          0         \n",
      "_________________________________________________________________\n",
      "conv2d_4 (Conv2D)            (None, 8, 8, 128)         73856     \n",
      "_________________________________________________________________\n",
      "conv2d_5 (Conv2D)            (None, 8, 8, 128)         147584    \n",
      "_________________________________________________________________\n",
      "conv2d_6 (Conv2D)            (None, 8, 8, 128)         147584    \n",
      "_________________________________________________________________\n",
      "max_pooling2d_2 (MaxPooling2 (None, 4, 4, 128)         0         \n",
      "_________________________________________________________________\n",
      "flatten (Flatten)            (None, 2048)              0         \n",
      "_________________________________________________________________\n",
      "dense (Dense)                (None, 512)               1049088   \n",
      "_________________________________________________________________\n",
      "dense_1 (Dense)              (None, 10)                5130      \n",
      "=================================================================\n",
      "Total params: 1,488,810\n",
      "Trainable params: 1,488,810\n",
      "Non-trainable params: 0\n",
      "_________________________________________________________________\n"
     ]
    }
   ],
   "source": [
    "model.compile(optimizer='adam', loss='sparse_categorical_crossentropy', metrics=['accuracy'])\n",
    "model.summary()"
   ]
  },
  {
   "cell_type": "code",
   "execution_count": null,
   "id": "fae0acff",
   "metadata": {
    "colab": {
     "base_uri": "https://localhost:8080/"
    },
    "id": "5196fce4",
    "outputId": "25bc64f2-04f8-44fa-d8ad-f6eefaca90a6"
   },
   "outputs": [
    {
     "name": "stdout",
     "output_type": "stream",
     "text": [
      "Epoch 1/10\n",
      "782/782 [==============================] - 39s 9ms/step - loss: 1.6786 - accuracy: 0.3761 - val_loss: 1.4553 - val_accuracy: 0.4702\n",
      "Epoch 2/10\n",
      "782/782 [==============================] - 7s 9ms/step - loss: 1.1382 - accuracy: 0.5913 - val_loss: 1.0644 - val_accuracy: 0.6149\n",
      "Epoch 3/10\n",
      "782/782 [==============================] - 7s 9ms/step - loss: 0.8908 - accuracy: 0.6834 - val_loss: 0.8789 - val_accuracy: 0.6957\n",
      "Epoch 4/10\n",
      "782/782 [==============================] - 7s 9ms/step - loss: 0.7493 - accuracy: 0.7349 - val_loss: 0.7730 - val_accuracy: 0.7346\n",
      "Epoch 5/10\n",
      "782/782 [==============================] - 7s 9ms/step - loss: 0.6348 - accuracy: 0.7780 - val_loss: 0.7303 - val_accuracy: 0.7525\n",
      "Epoch 6/10\n",
      "782/782 [==============================] - 7s 9ms/step - loss: 0.5443 - accuracy: 0.8061 - val_loss: 0.7697 - val_accuracy: 0.7438\n",
      "Epoch 7/10\n",
      "782/782 [==============================] - 7s 9ms/step - loss: 0.4542 - accuracy: 0.8392 - val_loss: 0.7531 - val_accuracy: 0.7552\n",
      "Epoch 8/10\n",
      "782/782 [==============================] - 7s 9ms/step - loss: 0.3736 - accuracy: 0.8666 - val_loss: 0.7727 - val_accuracy: 0.7584\n",
      "Epoch 9/10\n",
      "782/782 [==============================] - 7s 9ms/step - loss: 0.3095 - accuracy: 0.8904 - val_loss: 0.8459 - val_accuracy: 0.7628\n",
      "Epoch 10/10\n",
      "782/782 [==============================] - 7s 9ms/step - loss: 0.2524 - accuracy: 0.9106 - val_loss: 1.0012 - val_accuracy: 0.7460\n"
     ]
    }
   ],
   "source": [
    "history=model.fit(x_train, y_train, batch_size=64, epochs=10,\n",
    "          validation_data=(x_test, y_test))"
   ]
  },
  {
   "cell_type": "code",
   "execution_count": 9,
   "id": "2a8b3625",
   "metadata": {
    "colab": {
     "base_uri": "https://localhost:8080/",
     "height": 279
    },
    "id": "yf2Kjsojc-U4",
    "outputId": "b0a00389-587c-4c8c-e991-0d2b8c5276bd"
   },
   "outputs": [
    {
     "data": {
      "image/png": "[encoded data removed]",
      "text/plain": [
       "<Figure size 864x288 with 2 Axes>"
      ]
     },
     "metadata": {
      "needs_background": "light",
      "tags": []
     },
     "output_type": "display_data"
    }
   ],
   "source": [
    "import matplotlib.pyplot as plt\n",
    "\n",
    "plt.figure(figsize=(12,4))\n",
    "\n",
    "plt.subplot(1,2,1)\n",
    "plt.plot(history.history['loss'], 'b--', label='loss')\n",
    "plt.plot(history.history['val_loss'], 'r:', label='val_loss')\n",
    "plt.xlabel('epoch')\n",
    "plt.grid()\n",
    "plt.legend()\n",
    "\n",
    "plt.subplot(1,2,2)\n",
    "plt.plot(history.history['accuracy'], 'b--', label='accuracy')\n",
    "plt.plot(history.history['val_accuracy'], 'r:', label='val accuracy')\n",
    "plt.xlabel('epoch')\n",
    "plt.grid()\n",
    "plt.legend()\n",
    "\n",
    "plt.show()"
   ]
  },
  {
   "cell_type": "markdown",
   "id": "9c994375",
   "metadata": {},
   "source": [
    "."
   ]
  },
  {
   "cell_type": "markdown",
   "id": "a2044bcb",
   "metadata": {
    "id": "NKDCaHz70bqT"
   },
   "source": [
    "# 1.5 AlexNet\n",
    "AlexNet은 8개의 레이어로 구성되어 있습니다. 5개의 컨볼루션 레이어와 3개의 full-connected 레이어로 구성되며. 두번째, 네번째, 다섯번째 컨볼루션 레이어들은 전 단계의 같은 채널의 특성맵들과만 연결되어 있는 반면, 세번째 컨볼루션 레이어는 전 단계의 두 채널의 특성맵들과 모두 연결되어 있습니다"
   ]
  },
  {
   "cell_type": "code",
   "execution_count": null,
   "id": "fb30b5b2",
   "metadata": {
    "_cell_guid": "b1076dfc-b9ad-4769-8c92-a6c4dae69d19",
    "_uuid": "8f2839f25d086af736a60e9eeb907d3b93b6e0e5",
    "id": "_8oXqlbW0bqW"
   },
   "outputs": [],
   "source": [
    "import numpy as np \n",
    "import pandas as pd \n",
    "import os\n",
    "import torch.nn as nn\n",
    "import torch.utils.data\n",
    "import time"
   ]
  },
  {
   "cell_type": "markdown",
   "id": "b9cbdb4c",
   "metadata": {
    "id": "C9oC7Ank0bqX"
   },
   "source": [
    "### 데이터(Dataset) 다운로드"
   ]
  },
  {
   "cell_type": "code",
   "execution_count": null,
   "id": "44531299",
   "metadata": {
    "colab": {
     "base_uri": "https://localhost:8080/",
     "height": 174,
     "referenced_widgets": [
      "8cf32b24c30447c699dadceb41f52f37",
      "f62d91e8df794476a4bd13f15cb7828e",
      "70986e00768348eb87ae413afc80703f",
      "a30be78bcc0b440ab2b283750056d3cb",
      "9ec7e811eb5d42e7a63035321ec27881",
      "2dc762f16467475e9de3d93e80fcacfe",
      "c12bfcd4e92c49caa52872e071e3453d",
      "5b56cd35580a4749a0a5c6a4ceee49b7"
     ]
    },
    "id": "2bCk5BPQ0bqX",
    "outputId": "63051f2e-0409-475d-8f67-1c5ece1663ba"
   },
   "outputs": [
    {
     "name": "stdout",
     "output_type": "stream",
     "text": [
      "Downloading https://www.cs.toronto.edu/~kriz/cifar-10-python.tar.gz to ./data/cifar-10-python.tar.gz\n"
     ]
    },
    {
     "data": {
      "application/vnd.jupyter.widget-view+json": {
       "model_id": "8cf32b24c30447c699dadceb41f52f37",
       "version_major": 2,
       "version_minor": 0
      },
      "text/plain": [
       "HBox(children=(FloatProgress(value=0.0, max=170498071.0), HTML(value='')))"
      ]
     },
     "metadata": {
      "tags": []
     },
     "output_type": "display_data"
    },
    {
     "name": "stdout",
     "output_type": "stream",
     "text": [
      "\n",
      "Extracting ./data/cifar-10-python.tar.gz to ./data\n",
      "Files already downloaded and verified\n"
     ]
    },
    {
     "name": "stderr",
     "output_type": "stream",
     "text": [
      "/usr/local/lib/python3.7/dist-packages/torch/utils/data/dataloader.py:477: UserWarning: This DataLoader will create 8 worker processes in total. Our suggested max number of worker in current system is 2, which is smaller than what this DataLoader is going to create. Please be aware that excessive worker creation might get DataLoader running slow or even freeze, lower the worker number to avoid potential slowness/freeze if necessary.\n",
      "  cpuset_checked))\n"
     ]
    }
   ],
   "source": [
    "import torchvision\n",
    "import torchvision.transforms as transforms\n",
    "\n",
    "transform= transforms.Compose(\n",
    "    [   transforms.Resize(256),          #AlexNet은 256 input size원해서 resize해줌\n",
    "     transforms.RandomHorizontalFlip(),  # Horizontal Flip을 통해 data augmentation하는 방법이 널리쓰인다.\n",
    "     transforms.ToTensor(),\n",
    "     transforms.Normalize([0.49139968, 0.48215841, 0.44653091], [0.24703223 , 0.24348513, 0.26158784]) #image 평균 및 표준편차\n",
    "    ])\n",
    "\n",
    "#train & test set\n",
    "trainset= torchvision.datasets.CIFAR10(root='./data', train=True, transform=transform,\n",
    "                                      download=True)\n",
    "testset= torchvision.datasets.CIFAR10(root='./data', train=False, transform=transform,\n",
    "                                     download=True)\n",
    "\n",
    "trainloader= torch.utils.data.DataLoader(trainset, batch_size=64, shuffle=True,\n",
    "                                        num_workers=8)\n",
    "testloader= torch.utils.data.DataLoader(testset, batch_size=64, shuffle=False,\n",
    "                                       num_workers=8)\n",
    "\n",
    "classes = ('plane', 'car', 'bird', 'cat',\n",
    "           'deer', 'dog', 'frog', 'horse', 'ship', 'truck')"
   ]
  },
  {
   "cell_type": "markdown",
   "id": "9280c90c",
   "metadata": {
    "id": "Y0eqd_9R0bqY"
   },
   "source": [
    "아래 코드는 각 채널에 대한 그림의 평균 및 표준 편차를 얻습니다.      \n",
    "이미지를 정규화하는 데 쓰입니다"
   ]
  },
  {
   "cell_type": "code",
   "execution_count": null,
   "id": "c1a6da63",
   "metadata": {
    "colab": {
     "base_uri": "https://localhost:8080/"
    },
    "id": "a1ZWkpbA0bqY",
    "outputId": "e3b3adaa-438c-471e-94ef-016111e71caf"
   },
   "outputs": [
    {
     "data": {
      "text/plain": [
       "array([0.49139968, 0.48215841, 0.44653091])"
      ]
     },
     "execution_count": 3,
     "metadata": {
      "tags": []
     },
     "output_type": "execute_result"
    }
   ],
   "source": [
    "train_means= trainset.data.mean(axis=(0,1,2))/255\n",
    "train_means"
   ]
  },
  {
   "cell_type": "code",
   "execution_count": null,
   "id": "8142bc37",
   "metadata": {
    "colab": {
     "base_uri": "https://localhost:8080/"
    },
    "id": "wKEdXn6c0bqY",
    "outputId": "1d4c76b8-8489-4e42-de7d-5ea79b31f39a"
   },
   "outputs": [
    {
     "data": {
      "text/plain": [
       "array([0.24703223, 0.24348513, 0.26158784])"
      ]
     },
     "execution_count": 4,
     "metadata": {
      "tags": []
     },
     "output_type": "execute_result"
    }
   ],
   "source": [
    "train_stds= trainset.data.std(axis=(0,1,2))/255\n",
    "train_stds"
   ]
  },
  {
   "cell_type": "markdown",
   "id": "23aabd33",
   "metadata": {
    "id": "EmLxFY4q0bqZ"
   },
   "source": [
    "### 검증 데이터"
   ]
  },
  {
   "cell_type": "code",
   "execution_count": null,
   "id": "8e408682",
   "metadata": {
    "id": "gxVpOCCY0bqZ"
   },
   "outputs": [],
   "source": [
    "from torch.utils.data import Subset\n",
    "#train에서 검증데이터 분리합니다 75:25\n",
    "def train_valid_split(dl, val_split=0.25):\n",
    "    total_items= dl.dataset.data.shape[0]\n",
    "    idxs= np.random.permutation(total_items)\n",
    "    train_idxs, valid_idxs= idxs[round(total_items*val_split):], idxs[:round(total_items*val_split)]\n",
    "    \n",
    "    train= Subset(dl, train_idxs)\n",
    "    valid= Subset(dl, valid_idxs)\n",
    "    return train, valid"
   ]
  },
  {
   "cell_type": "code",
   "execution_count": null,
   "id": "e4974bdc",
   "metadata": {
    "id": "_KWdRFIo0bqZ"
   },
   "outputs": [],
   "source": [
    "train_dl, valid_dl= train_valid_split(trainloader)"
   ]
  },
  {
   "cell_type": "markdown",
   "id": "e9d55b50",
   "metadata": {
    "id": "5UfL7gxM0bqZ"
   },
   "source": [
    "### 이미지 출력"
   ]
  },
  {
   "cell_type": "code",
   "execution_count": null,
   "id": "7de76ac0",
   "metadata": {
    "id": "zzU3tC9b0bqa"
   },
   "outputs": [],
   "source": [
    "import matplotlib.pyplot as plt\n",
    "def show_image(img):\n",
    "    img= img.numpy()\n",
    "    plt.imshow(np.transpose(img, (1, 2, 0)))\n",
    "    plt.show()"
   ]
  },
  {
   "cell_type": "code",
   "execution_count": null,
   "id": "1a9caba7",
   "metadata": {
    "colab": {
     "base_uri": "https://localhost:8080/",
     "height": 209
    },
    "id": "qDhaMKsj0bqa",
    "outputId": "cf16d8aa-d99a-4809-8675-b1c70d30600e"
   },
   "outputs": [
    {
     "name": "stderr",
     "output_type": "stream",
     "text": [
      "/usr/local/lib/python3.7/dist-packages/torch/utils/data/dataloader.py:477: UserWarning: This DataLoader will create 8 worker processes in total. Our suggested max number of worker in current system is 2, which is smaller than what this DataLoader is going to create. Please be aware that excessive worker creation might get DataLoader running slow or even freeze, lower the worker number to avoid potential slowness/freeze if necessary.\n",
      "  cpuset_checked))\n",
      "Clipping input data to the valid range for imshow with RGB data ([0..1] for floats or [0..255] for integers).\n"
     ]
    },
    {
     "data": {
      "image/png": "[encoded data removed]",
      "text/plain": [
       "<Figure size 432x288 with 1 Axes>"
      ]
     },
     "metadata": {
      "needs_background": "light",
      "tags": []
     },
     "output_type": "display_data"
    }
   ],
   "source": [
    "# get some random training images\n",
    "dataiter = iter(trainloader)\n",
    "images, labels = dataiter.next()\n",
    "\n",
    "# show images\n",
    "show_image(torchvision.utils.make_grid(images[:4]))"
   ]
  },
  {
   "cell_type": "code",
   "execution_count": null,
   "id": "280d5953",
   "metadata": {
    "colab": {
     "base_uri": "https://localhost:8080/"
    },
    "id": "nQ7Y07rf0bqa",
    "outputId": "46aa2115-8ac9-4837-fc2c-e3db6833ed73"
   },
   "outputs": [
    {
     "data": {
      "text/plain": [
       "['horse', 'frog', 'ship', 'plane']"
      ]
     },
     "execution_count": 9,
     "metadata": {
      "tags": []
     },
     "output_type": "execute_result"
    }
   ],
   "source": [
    "[classes[each] for each in labels[:4]]"
   ]
  },
  {
   "cell_type": "markdown",
   "id": "40240bde",
   "metadata": {
    "id": "pDGeusx-0bqa"
   },
   "source": [
    "### 환경설정 \n",
    "가능하면 gpu를 사용할 수 있게 만들어줍니다."
   ]
  },
  {
   "cell_type": "code",
   "execution_count": null,
   "id": "afdf93fe",
   "metadata": {
    "colab": {
     "base_uri": "https://localhost:8080/"
    },
    "id": "iNCCma7K0bqb",
    "outputId": "5f3b5d81-eafe-4df2-a134-47022e3ad6d0"
   },
   "outputs": [
    {
     "name": "stdout",
     "output_type": "stream",
     "text": [
      "cuda:0\n"
     ]
    }
   ],
   "source": [
    "device = torch.device(\"cuda:0\" if torch.cuda.is_available() else \"cpu\")\n",
    "# trainloader.to(device);\n",
    "print(device)"
   ]
  },
  {
   "cell_type": "markdown",
   "id": "9670e698",
   "metadata": {
    "id": "mVyPgFrE0bqb"
   },
   "source": [
    "### AlexNet Architecture"
   ]
  },
  {
   "cell_type": "code",
   "execution_count": null,
   "id": "fe7b7c1a",
   "metadata": {
    "id": "IqJFo8SO0bqb"
   },
   "outputs": [],
   "source": [
    "class AlexNet(nn.Module):\n",
    "    def __init__(self, num_classes=10): #CiFar10은 class개수 10개라\n",
    "        super(AlexNet, self).__init__()\n",
    "         \n",
    "        #첫번째 레이어(컨볼루션 레이어): 96개의 11 x 11 x 3 사이즈 필터커널로 입력 영상을 컨볼루션해준다.\n",
    "        self.features= nn.Sequential(\n",
    "        nn.Conv2d(3, 96, kernel_size=11, stride=4, padding=0), #컨볼루션 보폭(stride)를 4로 설정했고, zero-padding은 사용하지 않았다.\n",
    "        nn.ReLU(inplace=True),   #결과적으로 55 x 55 x 96 특성맵(96장의 55 x 55 사이즈 특성맵들)이 산출된다. 그 다음에 ReLU 함수로 활성화해준다.\n",
    "        nn.MaxPool2d(kernel_size=3, stride=2),  #이어서 3 x 3 overlapping max pooling이 stride 2로 시행된다. 그 결과 27 x 27 x 96 특성맵을 갖게 된다.                                          \n",
    "                                    \n",
    "        #두번째 레이어(컨볼루션 레이어): 256개의 5 x 5 x 48 커널을 사용하여 전 단계의 특성맵을 컨볼루션해준다. \n",
    "        nn.Conv2d(96, 256, kernel_size=5, stride=1, padding=2), #stride는 1로, zero-padding은 2로 설정했다. \n",
    "        nn.ReLU(inplace=True), #따라서 27 x 27 x 256 특성맵(256장의 27 x 27 사이즈 특성맵들)을 얻게 된다. 역시 ReLU 함수로 활성화한다.\n",
    "        nn.MaxPool2d(kernel_size=3, stride=2), #그 다음에 3 x 3 overlapping max pooling을 stride 2로 시행한다. 그 결과 13 x 13 x 256 특성맵을 얻게 된다. \n",
    "        \n",
    "        #세번째 레이어(컨볼루션 레이어): 384개의 3 x 3 x 256 커널을 사용하여 전 단계의 특성맵을 컨볼루션해준다.   \n",
    "        nn.Conv2d(256, 384, kernel_size=3, stride=1, padding=1), #stride와 zero-padding 모두 1로 설정한다.\n",
    "        nn.ReLU(inplace=True), #따라서 13 x 13 x 384 특성맵(384장의 13 x 13 사이즈 특성맵들)을 얻게 된다. 역시 ReLU 함수로 활성화한다.\n",
    "        \n",
    "        #네번째 레이어(컨볼루션 레이어): 384개의 3 x 3 x 192 커널을 사용해서 전 단계의 특성맵을 컨볼루션해준다.\n",
    "        nn.Conv2d(384, 384, kernel_size=3, stride=1, padding=1), #stride와 zero-padding 모두 1로 설정한다. \n",
    "        nn.ReLU(inplace=True), #따라서 13 x 13 x 384 특성맵(384장의 13 x 13 사이즈 특성맵들)을 얻게 된다. 역시 ReLU 함수로 활성화한다.\n",
    "        \n",
    "        #다섯번째 레이어(컨볼루션 레이어): 256개의 3 x 3 x 192 커널을 사용해서 전 단계의 특성맵을 컨볼루션해준다. \n",
    "        nn.Conv2d(384, 256, kernel_size=5, stride=1, padding=2), #stride와 zero-padding 모두 1로 설정한다.\n",
    "        nn.ReLU(inplace=True), # 따라서 13 x 13 x 256 특성맵(256장의 13 x 13 사이즈 특성맵들)을 얻게 된다. 역시 ReLU 함수로 활성화한다.\n",
    "        nn.MaxPool2d(kernel_size=3, stride=2),  #그 다음에 3 x 3 overlapping max pooling을 stride 2로 시행한다. 그 결과 6 x 6 x 256 특성맵을 얻게 된다.\n",
    "        )\n",
    "       \n",
    "        self.avgpool= nn.AvgPool2d(6)  #Maxpooling이 아닌 avgpooling을 사용한다.\n",
    "        self.classifier= nn.Sequential(  #Fully Connected Layer\n",
    "            nn.Dropout(), nn.Linear(256*6*6, 4096), #128*2*2, 1024 \n",
    "        nn.ReLU(inplace=True), nn.Dropout(), #ReLU 함수로 활성화한다.\n",
    "        nn.Linear(4096, num_classes)) \n",
    "        \n",
    "    def forward(self, x):\n",
    "        x= self.features(x)\n",
    "        x=x.view(x.size(0), 256*6*6)\n",
    "        x= self.classifier(x)\n",
    "        return x"
   ]
  },
  {
   "cell_type": "markdown",
   "id": "46604f66",
   "metadata": {
    "id": "VlhjO-YF0bqb"
   },
   "source": [
    "model GPU로 돌림"
   ]
  },
  {
   "cell_type": "code",
   "execution_count": null,
   "id": "9af78632",
   "metadata": {
    "id": "vJqAwlgT0bqc"
   },
   "outputs": [],
   "source": [
    "model= AlexNet(num_classes=10).to(device)"
   ]
  },
  {
   "cell_type": "code",
   "execution_count": null,
   "id": "8b85c6a9",
   "metadata": {
    "colab": {
     "base_uri": "https://localhost:8080/"
    },
    "id": "rJ4iWZPv0bqc",
    "outputId": "ad629d7c-3606-4d0f-9c90-379c296a0535"
   },
   "outputs": [
    {
     "data": {
      "text/plain": [
       "AlexNet(\n",
       "  (features): Sequential(\n",
       "    (0): Conv2d(3, 96, kernel_size=(11, 11), stride=(4, 4))\n",
       "    (1): ReLU(inplace=True)\n",
       "    (2): MaxPool2d(kernel_size=3, stride=2, padding=0, dilation=1, ceil_mode=False)\n",
       "    (3): Conv2d(96, 256, kernel_size=(5, 5), stride=(1, 1), padding=(2, 2))\n",
       "    (4): ReLU(inplace=True)\n",
       "    (5): MaxPool2d(kernel_size=3, stride=2, padding=0, dilation=1, ceil_mode=False)\n",
       "    (6): Conv2d(256, 384, kernel_size=(3, 3), stride=(1, 1), padding=(1, 1))\n",
       "    (7): ReLU(inplace=True)\n",
       "    (8): Conv2d(384, 384, kernel_size=(3, 3), stride=(1, 1), padding=(1, 1))\n",
       "    (9): ReLU(inplace=True)\n",
       "    (10): Conv2d(384, 256, kernel_size=(5, 5), stride=(1, 1), padding=(2, 2))\n",
       "    (11): ReLU(inplace=True)\n",
       "    (12): MaxPool2d(kernel_size=3, stride=2, padding=0, dilation=1, ceil_mode=False)\n",
       "  )\n",
       "  (avgpool): AvgPool2d(kernel_size=6, stride=6, padding=0)\n",
       "  (classifier): Sequential(\n",
       "    (0): Dropout(p=0.5, inplace=False)\n",
       "    (1): Linear(in_features=9216, out_features=4096, bias=True)\n",
       "    (2): ReLU(inplace=True)\n",
       "    (3): Dropout(p=0.5, inplace=False)\n",
       "    (4): Linear(in_features=4096, out_features=10, bias=True)\n",
       "  )\n",
       ")"
      ]
     },
     "execution_count": 13,
     "metadata": {
      "tags": []
     },
     "output_type": "execute_result"
    }
   ],
   "source": [
    "model"
   ]
  },
  {
   "cell_type": "code",
   "execution_count": null,
   "id": "2838f83c",
   "metadata": {
    "id": "NkA_DZKM0bqc"
   },
   "outputs": [],
   "source": [
    "#loss function , optimizer\n",
    "criterion= nn.CrossEntropyLoss()\n",
    "optimizer= torch.optim.Adam(params= model.parameters(), lr=3e-4)"
   ]
  },
  {
   "cell_type": "code",
   "execution_count": null,
   "id": "89916205",
   "metadata": {
    "id": "yKdmiW3E0bqd"
   },
   "outputs": [],
   "source": [
    "# training time 계산을 위한 함수\n",
    "import datetime\n",
    "\n",
    "def convert_seconds_format(n):\n",
    "    return str(datetime.timedelta(seconds =n))"
   ]
  },
  {
   "cell_type": "markdown",
   "id": "0fafdc6a",
   "metadata": {
    "id": "FsaG1_bs0bqd"
   },
   "source": [
    "### Training"
   ]
  },
  {
   "cell_type": "code",
   "execution_count": null,
   "id": "a04dc3de",
   "metadata": {
    "colab": {
     "base_uri": "https://localhost:8080/"
    },
    "id": "o0SgIw--0bqd",
    "outputId": "207e6e89-3046-45d1-9753-ea1bd6edf59d"
   },
   "outputs": [
    {
     "name": "stdout",
     "output_type": "stream",
     "text": [
      "training starting...\n"
     ]
    },
    {
     "name": "stderr",
     "output_type": "stream",
     "text": [
      "/usr/local/lib/python3.7/dist-packages/torch/utils/data/dataloader.py:477: UserWarning: This DataLoader will create 8 worker processes in total. Our suggested max number of worker in current system is 2, which is smaller than what this DataLoader is going to create. Please be aware that excessive worker creation might get DataLoader running slow or even freeze, lower the worker number to avoid potential slowness/freeze if necessary.\n",
      "  cpuset_checked))\n"
     ]
    },
    {
     "name": "stdout",
     "output_type": "stream",
     "text": [
      "epoch 1, running loss: 1.5214920009602046\n",
      "validation accuracy: 0.61556. validation loss: 1.5597028732299805\n",
      "epoch time: 0:05:26.145501\n",
      "epoch 2, running loss: 1.025372898380216\n",
      "validation accuracy: 0.67478. validation loss: 0.7193543910980225\n",
      "epoch time: 0:05:29.399378\n",
      "epoch 3, running loss: 0.8201438034389755\n",
      "validation accuracy: 0.76998. validation loss: 1.3456103801727295\n",
      "epoch time: 0:05:28.094962\n",
      "epoch 4, running loss: 0.6976534034699087\n",
      "validation accuracy: 0.80502. validation loss: 0.7282683253288269\n",
      "epoch time: 0:05:26.772855\n",
      "epoch 5, running loss: 0.6212240723885891\n",
      "validation accuracy: 0.81728. validation loss: 0.24261750280857086\n",
      "epoch time: 0:05:26.661217\n",
      "epoch 6, running loss: 0.5526411544803468\n",
      "validation accuracy: 0.8466. validation loss: 0.3789478540420532\n",
      "epoch time: 0:05:27.632470\n",
      "epoch 7, running loss: 0.5090237534038541\n",
      "validation accuracy: 0.86418. validation loss: 0.21120870113372803\n",
      "epoch time: 0:05:26.906176\n",
      "epoch 8, running loss: 0.4672326447105896\n",
      "validation accuracy: 0.86504. validation loss: 0.41632315516471863\n",
      "epoch time: 0:05:27.939267\n",
      "epoch 9, running loss: 0.42205633701000567\n",
      "validation accuracy: 0.89776. validation loss: 0.6452646851539612\n",
      "epoch time: 0:05:27.397167\n",
      "epoch 10, running loss: 0.38589456593486626\n",
      "validation accuracy: 0.90572. validation loss: 0.3855612874031067\n",
      "epoch time: 0:05:28.159204\n",
      "training complete\n",
      "total time to train: 0:54:35.121857\n"
     ]
    }
   ],
   "source": [
    "all_losses=[]\n",
    "all_valid_losses=[]\n",
    "print('training starting...')\n",
    "start_time= time.time()\n",
    "for epoch in range(10):\n",
    "    epoch_start=time.time()\n",
    "    model.train()\n",
    "    running_loss= 0.0\n",
    "    running_valid_loss=0.0\n",
    "    predictions=[]\n",
    "    total=0\n",
    "    correct=0\n",
    "    \n",
    "    for i, data in enumerate(train_dl.dataset, 0):\n",
    "\n",
    "        inputs, labels= data[0].to(device), data[1].to(device)\n",
    "\n",
    "        #zero parameter gradients\n",
    "        optimizer.zero_grad()\n",
    "\n",
    "        #forward + back optimize\n",
    "        outputs= model(inputs)\n",
    "        loss= criterion(outputs, labels)\n",
    "        loss.backward()\n",
    "        optimizer.step()\n",
    "        \n",
    "        #stats\n",
    "        running_loss += loss.item()\n",
    "    all_losses.append(running_loss/i)\n",
    "    \n",
    "    #evaluation mode\n",
    "    model.eval()\n",
    "    with torch.no_grad():\n",
    "        for i, data in enumerate(valid_dl.dataset, 0):\n",
    "            inputs, labels= data[0].to(device), data[1].to(device)\n",
    "            outputs= model(inputs)\n",
    "            valid_loss= criterion(outputs, labels)\n",
    "            running_valid_loss+= valid_loss.item()\n",
    "            \n",
    "            #the class with the highest score\n",
    "            _, predicted= torch.max(outputs.data, 1)\n",
    "            predictions.append(outputs)\n",
    "            total+= labels.size(0)\n",
    "            correct+= (predicted==labels).sum().item()\n",
    "    epoch_end=time.time()\n",
    "    epoch_time= convert_seconds_format(epoch_end-epoch_start)\n",
    "    \n",
    "    all_valid_losses.append(valid_loss)\n",
    "    print(f\"epoch {epoch+1}, running loss: {all_losses[-1]}\")\n",
    "    print(f\"validation accuracy: {correct/total}. validation loss: {all_valid_losses[-1]}\")\n",
    "    print(f\"epoch time: {epoch_time}\")\n",
    "end_time= time.time()\n",
    "train_time= convert_seconds_format(end_time- start_time)\n",
    "print('training complete')\n",
    "print(f\"total time to train: {train_time}\")"
   ]
  },
  {
   "cell_type": "code",
   "execution_count": null,
   "id": "98554d9f",
   "metadata": {
    "colab": {
     "base_uri": "https://localhost:8080/"
    },
    "id": "6Fq9xXMq0bqe",
    "outputId": "1c2d6398-3c1a-4483-b55a-363820b67a3e"
   },
   "outputs": [
    {
     "data": {
      "text/plain": [
       "[1, 2, 3, 4, 5, 6, 7, 8, 9, 10]"
      ]
     },
     "execution_count": 17,
     "metadata": {
      "tags": []
     },
     "output_type": "execute_result"
    }
   ],
   "source": [
    "x_axis=[i for i in range(1, 11)]\n",
    "x_axis"
   ]
  },
  {
   "cell_type": "code",
   "execution_count": null,
   "id": "4f1012ea",
   "metadata": {
    "id": "2R3d0jKG0bqe"
   },
   "outputs": [],
   "source": [
    "valid_losses_list=[each.item() for each in all_valid_losses]    "
   ]
  },
  {
   "cell_type": "code",
   "execution_count": null,
   "id": "af14e08c",
   "metadata": {
    "colab": {
     "base_uri": "https://localhost:8080/",
     "height": 279
    },
    "id": "87KaI8e30bqe",
    "outputId": "7bfdfed7-a12b-4922-f107-5873cf38730c"
   },
   "outputs": [
    {
     "data": {
      "image/png": "[encoded data removed]",
      "text/plain": [
       "<Figure size 432x288 with 1 Axes>"
      ]
     },
     "metadata": {
      "needs_background": "light",
      "tags": []
     },
     "output_type": "display_data"
    }
   ],
   "source": [
    "# 아래에 train data와 validation data에 대한 loss 그래프 출력\n",
    "plt.plot(x_axis, all_losses, label='train')\n",
    "plt.plot(x_axis, valid_losses_list, label='valid')\n",
    "plt.ylabel('loss')\n",
    "plt.xlabel('epoch')\n",
    "plt.legend();"
   ]
  },
  {
   "cell_type": "code",
   "execution_count": null,
   "id": "ce59c09c",
   "metadata": {
    "id": "7-lTplCo0bqe"
   },
   "outputs": [],
   "source": [
    "correct, total=0, 0\n",
    "predictions=[]"
   ]
  },
  {
   "cell_type": "code",
   "execution_count": null,
   "id": "5c91084f",
   "metadata": {
    "colab": {
     "base_uri": "https://localhost:8080/"
    },
    "id": "VTY-TtXF0bqe",
    "outputId": "ebe6eaf7-2b10-4bfe-a449-997f51d362fa"
   },
   "outputs": [
    {
     "name": "stderr",
     "output_type": "stream",
     "text": [
      "/usr/local/lib/python3.7/dist-packages/torch/utils/data/dataloader.py:477: UserWarning: This DataLoader will create 8 worker processes in total. Our suggested max number of worker in current system is 2, which is smaller than what this DataLoader is going to create. Please be aware that excessive worker creation might get DataLoader running slow or even freeze, lower the worker number to avoid potential slowness/freeze if necessary.\n",
      "  cpuset_checked))\n"
     ]
    }
   ],
   "source": [
    "model.eval();\n",
    "with torch.no_grad():\n",
    "    for i, data in enumerate(testloader, 0):\n",
    "        inputs, labels= data[0].to(device), data[1].to(device)\n",
    "        #inputs= inputs.view(-1, 32*32*3)\n",
    "        outputs= model(inputs)\n",
    "        #the class with the highest score\n",
    "        _, predicted= torch.max(outputs.data, 1)\n",
    "        predictions.append(outputs)\n",
    "        total+= labels.size(0)\n",
    "        correct+= (predicted==labels).sum().item()"
   ]
  },
  {
   "cell_type": "code",
   "execution_count": null,
   "id": "7dad220f",
   "metadata": {
    "colab": {
     "base_uri": "https://localhost:8080/"
    },
    "id": "XA32gsOm0bqe",
    "outputId": "62efe87e-ea56-4df5-8488-78eae7fae2b4"
   },
   "outputs": [
    {
     "name": "stdout",
     "output_type": "stream",
     "text": [
      " Accuracy score of: 0.8154\n"
     ]
    }
   ],
   "source": [
    "print(f' Accuracy score of: {correct/total}')"
   ]
  }
 ],
 "metadata": {
  "accelerator": "GPU",
  "colab": {
   "name": "CNN.ipynb",
   "provenance": []
  },
  "kernelspec": {
   "display_name": "Python 3",
   "language": "python",
   "name": "python3"
  },
  "language_info": {
   "codemirror_mode": {
    "name": "ipython",
    "version": 3
   },
   "file_extension": ".py",
   "mimetype": "text/x-python",
   "name": "python",
   "nbconvert_exporter": "python",
   "pygments_lexer": "ipython3",
   "version": "3.8.5"
  }
 },
 "nbformat": 4,
 "nbformat_minor": 5
}
